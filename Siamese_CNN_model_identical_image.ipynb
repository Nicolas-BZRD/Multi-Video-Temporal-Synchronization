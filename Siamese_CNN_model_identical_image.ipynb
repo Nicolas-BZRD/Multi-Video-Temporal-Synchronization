{
  "nbformat": 4,
  "nbformat_minor": 0,
  "metadata": {
    "colab": {
      "name": "Siamese CNN model - identical image.ipynb",
      "provenance": [],
      "collapsed_sections": [],
      "mount_file_id": "1uTcNTapS13JVH7CmtikjEDtCPMkRy6ac",
      "authorship_tag": "ABX9TyOgabUcpI0XCy2yqHAXiLdR",
      "include_colab_link": true
    },
    "kernelspec": {
      "name": "python3",
      "display_name": "Python 3"
    },
    "language_info": {
      "name": "python"
    }
  },
  "cells": [
    {
      "cell_type": "markdown",
      "metadata": {
        "id": "view-in-github",
        "colab_type": "text"
      },
      "source": [
        "<a href=\"https://colab.research.google.com/github/Nicolas-BZRD/Multi-Video-Temporal-Synchronization/blob/main/Siamese_CNN_model_identical_image.ipynb\" target=\"_parent\"><img src=\"https://colab.research.google.com/assets/colab-badge.svg\" alt=\"Open In Colab\"/></a>"
      ]
    },
    {
      "cell_type": "markdown",
      "source": [
        "#Siamese CNN - identical image"
      ],
      "metadata": {
        "id": "fX3HuJNkQphH"
      }
    },
    {
      "cell_type": "code",
      "execution_count": 4,
      "metadata": {
        "id": "be84GRR5uupd"
      },
      "outputs": [],
      "source": [
        "import os\n",
        "import random\n",
        "from tqdm import tqdm\n",
        "\n",
        "import pandas as pd\n",
        "import numpy as np\n",
        "\n",
        "from matplotlib import pyplot as plt\n",
        "import cv2\n",
        "\n",
        "import tensorflow as tf\n",
        "from tensorflow.keras import models, layers"
      ]
    },
    {
      "cell_type": "code",
      "source": [
        "from google.colab import drive\n",
        "drive.mount('/content/drive')"
      ],
      "metadata": {
        "colab": {
          "base_uri": "https://localhost:8080/"
        },
        "id": "qdO1lYrRMsFk",
        "outputId": "a4aafedc-59b8-4935-bda0-a82849fb6dbd"
      },
      "execution_count": 5,
      "outputs": [
        {
          "output_type": "stream",
          "name": "stdout",
          "text": [
            "Drive already mounted at /content/drive; to attempt to forcibly remount, call drive.mount(\"/content/drive\", force_remount=True).\n"
          ]
        }
      ]
    },
    {
      "cell_type": "markdown",
      "source": [
        "##Dataset"
      ],
      "metadata": {
        "id": "WOOm5lmc568F"
      }
    },
    {
      "cell_type": "markdown",
      "source": [
        "dataset: https://cs.stanford.edu/people/rak248/VG_100K_2/images2.zip"
      ],
      "metadata": {
        "id": "SSKgnpCRN0FR"
      }
    },
    {
      "cell_type": "markdown",
      "source": [
        "Pre-processing of data"
      ],
      "metadata": {
        "id": "GzZQbcxiGKm9"
      }
    },
    {
      "cell_type": "code",
      "source": [
        "# data_dir = \"/content/drive/MyDrive/ISIA Lab/Dataset/VG\"\n",
        "# listImages = os.listdir(data_dir)\n",
        "\n",
        "# for image in tqdm(listImages):\n",
        "#   try:\n",
        "#     img = cv2.imread(f'/content/drive/MyDrive/ISIA Lab/Dataset/VG/{image}')\n",
        "#     img = cv2.cvtColor(img, cv2.COLOR_BGR2GRAY)\n",
        "#     img = cv2.resize(img, dsize=(260, 260), interpolation=cv2.INTER_CUBIC)\n",
        "#     cv2.imwrite(f'/content/drive/MyDrive/ISIA Lab/Dataset/VG Gray/{image}', img)\n",
        "#   except:\n",
        "#     print(f'(error: {image}')"
      ],
      "metadata": {
        "id": "VqAYlnbYCp6J"
      },
      "execution_count": 6,
      "outputs": []
    },
    {
      "cell_type": "markdown",
      "source": [
        "Tool functions:"
      ],
      "metadata": {
        "id": "-FzNQf2_BI6f"
      }
    },
    {
      "cell_type": "code",
      "source": [
        "def randomPairSameImageCroped(npArr):\n",
        "  height, width = npArr.shape\n",
        "\n",
        "  randHeight = random.randint(0, int(height*0.2))\n",
        "  randWidth = random.randint(0, int(width*0.2))\n",
        "\n",
        "  randReturn = random.randint(0,3)\n",
        "\n",
        "  if randReturn == 0:\n",
        "    return (\n",
        "      npArr[0:(height-randHeight),0:(width-randWidth)],\n",
        "      npArr[0:(height-randHeight),0:(width-randWidth)]\n",
        "    )\n",
        "  elif randReturn == 1:\n",
        "    return (\n",
        "      npArr[0:(height-randHeight),0:(width-randWidth)],\n",
        "      npArr[randHeight:, 0:(width-randWidth)]\n",
        "    )\n",
        "  elif randReturn == 2:\n",
        "    return (\n",
        "      npArr[0:(height-randHeight),0:(width-randWidth)],\n",
        "      npArr[randHeight:, randWidth:]\n",
        "    )\n",
        "  else:\n",
        "    return (\n",
        "      npArr[0:(height-randHeight),0:(width-randWidth)],\n",
        "      npArr[0:(height-randHeight), randWidth:]\n",
        "    )\n",
        "\n"
      ],
      "metadata": {
        "id": "Hn5OJiSjivyw"
      },
      "execution_count": 7,
      "outputs": []
    },
    {
      "cell_type": "code",
      "source": [
        "def randomPairImage(list):\n",
        "  l = r = \"\"\n",
        "  while(l == r):\n",
        "    l = random.choice(list)\n",
        "    r = random.choice(list)\n",
        "  return l,r"
      ],
      "metadata": {
        "id": "kcZOuNOsXPP1"
      },
      "execution_count": 8,
      "outputs": []
    },
    {
      "cell_type": "markdown",
      "source": [
        "Open dataset"
      ],
      "metadata": {
        "id": "95yVRVOFFo6Z"
      }
    },
    {
      "cell_type": "code",
      "source": [
        "data_dir = \"/content/drive/MyDrive/ISIA Lab/Dataset/VG Gray\"\n",
        "listImages = os.listdir(data_dir)\n",
        "random.shuffle(listImages)\n",
        "\n",
        "dataset = []\n",
        "len(listImages)"
      ],
      "metadata": {
        "id": "10Smy7C6NRB5",
        "colab": {
          "base_uri": "https://localhost:8080/"
        },
        "outputId": "4aef71eb-501b-4630-82b8-a2f138dba00b"
      },
      "execution_count": 9,
      "outputs": [
        {
          "output_type": "execute_result",
          "data": {
            "text/plain": [
              "30929"
            ]
          },
          "metadata": {},
          "execution_count": 9
        }
      ]
    },
    {
      "cell_type": "markdown",
      "source": [
        "Creating a pair of correct cropped image:"
      ],
      "metadata": {
        "id": "QL7iVSWgIK4c"
      }
    },
    {
      "cell_type": "code",
      "source": [
        "for item in tqdm(listImages):\n",
        "  img = cv2.imread(f'{data_dir}/{item}', cv2.IMREAD_GRAYSCALE)\n",
        "  pair = randomPairSameImageCroped(img)\n",
        "  dataset.append([pair, 1])"
      ],
      "metadata": {
        "colab": {
          "base_uri": "https://localhost:8080/"
        },
        "id": "Nvuy4pK45Onw",
        "outputId": "29618ab1-2701-4d40-a594-b57204d95199"
      },
      "execution_count": 10,
      "outputs": [
        {
          "output_type": "stream",
          "name": "stderr",
          "text": [
            "100%|██████████| 30929/30929 [02:45<00:00, 187.31it/s]\n"
          ]
        }
      ]
    },
    {
      "cell_type": "markdown",
      "source": [
        "Creation of bad couple of images (same quantity as correct couple of images):"
      ],
      "metadata": {
        "id": "CIc-I-VzIJdP"
      }
    },
    {
      "cell_type": "code",
      "source": [
        "size = len(dataset)\n",
        "for i in tqdm(range(0,size)):\n",
        "  l, r = randomPairImage(listImages)\n",
        "  l = cv2.imread(f'{data_dir}/{l}', cv2.IMREAD_GRAYSCALE)\n",
        "  r = cv2.imread(f'{data_dir}/{r}', cv2.IMREAD_GRAYSCALE)\n",
        "  dataset.append([(l,r), 0])"
      ],
      "metadata": {
        "colab": {
          "base_uri": "https://localhost:8080/"
        },
        "id": "HCW7vf6H7zHT",
        "outputId": "f7dfefac-06c1-4788-db8a-37a715b85fa3"
      },
      "execution_count": 11,
      "outputs": [
        {
          "output_type": "stream",
          "name": "stderr",
          "text": [
            "100%|██████████| 30929/30929 [04:28<00:00, 115.02it/s]\n"
          ]
        }
      ]
    },
    {
      "cell_type": "markdown",
      "source": [
        "##Model"
      ],
      "metadata": {
        "id": "tDnh98WEQlDG"
      }
    },
    {
      "cell_type": "code",
      "source": [
        "IMG_SHAPE = (224, 224, 1)\n",
        "\n",
        "BASE_OUTPUT = \"/content/drive/MyDrive/ISIA Lab/Siamese CNN\"\n",
        "MODEL_PATH = os.path.sep.join([BASE_OUTPUT, \"siamese_model\"])"
      ],
      "metadata": {
        "id": "kwCHfSuKNa3r"
      },
      "execution_count": 12,
      "outputs": []
    },
    {
      "cell_type": "code",
      "source": [
        "model = models.Sequential()\n",
        "model.add(layers.Conv2D(32, (3, 3), activation='relu', input_shape=IMG_SHAPE))\n",
        "model.add(layers.MaxPooling2D((3, 3)))\n",
        "\n",
        "model.add(layers.Conv2D(48, (3, 3), activation='relu'))\n",
        "model.add(layers.MaxPooling2D((2, 2)))\n",
        "model.add(layers.Dropout(0.15))\n",
        "\n",
        "model.add(layers.Conv2D(48, (3, 3), activation='relu'))\n",
        "model.add(layers.MaxPooling2D((2, 2)))\n",
        "model.add(layers.Dropout(0.25))\n",
        "\n",
        "model.add(layers.Conv2D(64, (3, 3), activation='relu'))\n",
        "model.add(layers.MaxPooling2D((2, 2)))\n",
        "model.add(layers.Dropout(0.3))\n",
        "\n",
        "model.add(layers.GlobalAveragePooling2D())\n",
        "model.add(layers.Dense(48, activation='relu'))\n",
        "\n",
        "model.summary()"
      ],
      "metadata": {
        "colab": {
          "base_uri": "https://localhost:8080/"
        },
        "id": "ImFhHCuSUCV_",
        "outputId": "b4de91ef-15c6-417f-e8f8-4028976a9a5e"
      },
      "execution_count": 14,
      "outputs": [
        {
          "output_type": "stream",
          "name": "stdout",
          "text": [
            "Model: \"sequential_1\"\n",
            "_________________________________________________________________\n",
            " Layer (type)                Output Shape              Param #   \n",
            "=================================================================\n",
            " conv2d_4 (Conv2D)           (None, 222, 222, 32)      320       \n",
            "                                                                 \n",
            " max_pooling2d_4 (MaxPooling  (None, 74, 74, 32)       0         \n",
            " 2D)                                                             \n",
            "                                                                 \n",
            " conv2d_5 (Conv2D)           (None, 72, 72, 48)        13872     \n",
            "                                                                 \n",
            " max_pooling2d_5 (MaxPooling  (None, 36, 36, 48)       0         \n",
            " 2D)                                                             \n",
            "                                                                 \n",
            " dropout_3 (Dropout)         (None, 36, 36, 48)        0         \n",
            "                                                                 \n",
            " conv2d_6 (Conv2D)           (None, 34, 34, 48)        20784     \n",
            "                                                                 \n",
            " max_pooling2d_6 (MaxPooling  (None, 17, 17, 48)       0         \n",
            " 2D)                                                             \n",
            "                                                                 \n",
            " dropout_4 (Dropout)         (None, 17, 17, 48)        0         \n",
            "                                                                 \n",
            " conv2d_7 (Conv2D)           (None, 15, 15, 64)        27712     \n",
            "                                                                 \n",
            " max_pooling2d_7 (MaxPooling  (None, 7, 7, 64)         0         \n",
            " 2D)                                                             \n",
            "                                                                 \n",
            " dropout_5 (Dropout)         (None, 7, 7, 64)          0         \n",
            "                                                                 \n",
            " global_average_pooling2d_1   (None, 64)               0         \n",
            " (GlobalAveragePooling2D)                                        \n",
            "                                                                 \n",
            " dense (Dense)               (None, 48)                3120      \n",
            "                                                                 \n",
            "=================================================================\n",
            "Total params: 65,808\n",
            "Trainable params: 65,808\n",
            "Non-trainable params: 0\n",
            "_________________________________________________________________\n"
          ]
        }
      ]
    }
  ]
}