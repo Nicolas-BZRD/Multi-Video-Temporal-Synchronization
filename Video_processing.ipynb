{
  "nbformat": 4,
  "nbformat_minor": 0,
  "metadata": {
    "colab": {
      "name": "Video processing.ipynb",
      "provenance": [],
      "collapsed_sections": [],
      "authorship_tag": "ABX9TyN/ORng/fV7N55Ido6s+yVN",
      "include_colab_link": true
    },
    "kernelspec": {
      "name": "python3",
      "display_name": "Python 3"
    },
    "language_info": {
      "name": "python"
    }
  },
  "cells": [
    {
      "cell_type": "markdown",
      "metadata": {
        "id": "view-in-github",
        "colab_type": "text"
      },
      "source": [
        "<a href=\"https://colab.research.google.com/github/Nicolas-BZRD/Multi-Video-Temporal-Synchronization/blob/main/Video_processing.ipynb\" target=\"_parent\"><img src=\"https://colab.research.google.com/assets/colab-badge.svg\" alt=\"Open In Colab\"/></a>"
      ]
    },
    {
      "cell_type": "markdown",
      "source": [
        "#Notebook to create a video dataset with delay."
      ],
      "metadata": {
        "id": "AS1izRUuERGY"
      }
    },
    {
      "cell_type": "code",
      "execution_count": 1,
      "metadata": {
        "id": "vUYmLX1xCfOF"
      },
      "outputs": [],
      "source": [
        "import os\n",
        "from random import randint\n",
        "\n",
        "import cv2\n",
        "import numpy as np\n",
        "\n",
        "from tqdm import tqdm"
      ]
    },
    {
      "cell_type": "code",
      "source": [
        "from google.colab import drive\n",
        "drive.mount('/content/drive')"
      ],
      "metadata": {
        "colab": {
          "base_uri": "https://localhost:8080/"
        },
        "id": "zrw3m6IJIUte",
        "outputId": "0a4928d1-3d8f-4fa2-b26e-1f4ccae72cd1"
      },
      "execution_count": 2,
      "outputs": [
        {
          "output_type": "stream",
          "name": "stdout",
          "text": [
            "Drive already mounted at /content/drive; to attempt to forcibly remount, call drive.mount(\"/content/drive\", force_remount=True).\n"
          ]
        }
      ]
    },
    {
      "cell_type": "markdown",
      "source": [
        "#Processing functions"
      ],
      "metadata": {
        "id": "7H7TmjGIaDqb"
      }
    },
    {
      "cell_type": "markdown",
      "source": [
        "Tools functions"
      ],
      "metadata": {
        "id": "MmjJrdZaPe5Q"
      }
    },
    {
      "cell_type": "code",
      "source": [
        "#Convert video to an array with shape(numberFrame, height, width, channel).\n",
        "def videoToArray(path):\n",
        "  video = cv2.VideoCapture(path)\n",
        "  fps = video.get(5)\n",
        "  arr = []\n",
        "\n",
        "  success, image = video.read()\n",
        "\n",
        "  while success:\n",
        "    arr.append(image)\n",
        "    success, image = video.read()\n",
        "\n",
        "  return arr, fps"
      ],
      "metadata": {
        "id": "mzRAOiYG64O7"
      },
      "execution_count": 3,
      "outputs": []
    },
    {
      "cell_type": "code",
      "source": [
        "#Reduce the number of images in the video.\n",
        "def reduceFps(arr, fps, desiredFPS):\n",
        "  step = int(fps/desiredFPS)\n",
        "  arrFPS = arr[0::step]\n",
        "  return arrFPS, desiredFPS"
      ],
      "metadata": {
        "id": "IiNq108o6-5d"
      },
      "execution_count": 4,
      "outputs": []
    },
    {
      "cell_type": "code",
      "source": [
        "#Convert RGB images in gray scales images.\n",
        "def RGBtoGray(arr):\n",
        "  rgb_weights = [0.2989, 0.5870, 0.1140]\n",
        "  arrGray = []\n",
        "\n",
        "  for img in arr:\n",
        "    arrGray.append(cv2.cvtColor(img, cv2.COLOR_BGR2GRAY).astype(np.uint8))\n",
        "  return arrGray"
      ],
      "metadata": {
        "id": "iRkDqbTfPcnI"
      },
      "execution_count": 5,
      "outputs": []
    },
    {
      "cell_type": "code",
      "source": [
        "#Resize the video aspect ratio.\n",
        "def changeRatio(arr, width, height):\n",
        "  arrResize = []\n",
        "\n",
        "  for img in arr:\n",
        "    arrResize.append(cv2.resize(img, dsize=(width, height), interpolation=cv2.INTER_CUBIC))\n",
        "\n",
        "  return arrResize"
      ],
      "metadata": {
        "id": "O84ppTdmRNds"
      },
      "execution_count": 6,
      "outputs": []
    },
    {
      "cell_type": "code",
      "source": [
        "#Split the video into several samples\n",
        "def splitVideo(arr, stepSamplingFrame):\n",
        "  return [arr[i : i + stepSamplingFrame] for i in range(0, len(arr), stepSamplingFrame)]"
      ],
      "metadata": {
        "id": "lzA8ERQde2w4"
      },
      "execution_count": 7,
      "outputs": []
    },
    {
      "cell_type": "code",
      "source": [
        "#Outputs two videos spaced out of x frames. Take two separate videos or just one that will be split\n",
        "def delayBetweenTwoArrays(fpsDelay, arrayFirstVideo, arraySecondVideo=[]):\n",
        "    arrDelay = arrayFirstVideo[fpsDelay:]\n",
        "    if(arraySecondVideo != []):\n",
        "      arrAdvance = arraySecondVideo[:-fpsDelay]\n",
        "    else:\n",
        "      arrAdvance = arrayFirstVideo[:-fpsDelay]\n",
        "      \n",
        "    return arrDelay, arrAdvance"
      ],
      "metadata": {
        "id": "qfJ3CvpphCyP"
      },
      "execution_count": 8,
      "outputs": []
    },
    {
      "cell_type": "code",
      "source": [
        "#Convert the array video to an video file saved on disk.\n",
        "def arrayToVideo(arr, name, height, width, fps, gray):\n",
        "  if(gray):\n",
        "    out = cv2.VideoWriter(f\"{name}.mp4\", cv2.VideoWriter_fourcc('m', 'p', '4', 'v'), fps, (width, height), 0)\n",
        "  else:\n",
        "    out = cv2.VideoWriter(f\"{name}.mp4\", cv2.VideoWriter_fourcc('m', 'p', '4', 'v'), fps, (width, height))\n",
        "  \n",
        "  [out.write(f) for f in arr]\n",
        "  out.release()"
      ],
      "metadata": {
        "id": "S4i2OoplN75y"
      },
      "execution_count": 9,
      "outputs": []
    },
    {
      "cell_type": "markdown",
      "source": [
        "Function to apply all differents tools:"
      ],
      "metadata": {
        "id": "AIKuiAy1PCMz"
      }
    },
    {
      "cell_type": "code",
      "source": [
        "def videoProcessingYoutube(directory, saveDirectory, height=240, width=240, sampleTime=2, desiredFps=10, gray=True):\n",
        "  id = 0\n",
        "  for filename in tqdm(os.listdir(directory)):\n",
        "    file = os.path.join(directory, filename)\n",
        "    if os.path.isfile(file):\n",
        "      #1 - convert video\n",
        "      arr, fps =  videoToArray(file)\n",
        "\n",
        "      #2 - reduce fps\n",
        "      if fps>desiredFps:\n",
        "        arr, fps = reduceFps(arr, fps, desiredFps)\n",
        "      else: fps = int(fps)\n",
        "\n",
        "      #3 - Transform video in gray scales video\n",
        "      if(gray):\n",
        "        arr = RGBtoGray(arr)\n",
        "\n",
        "      #4 - Change ratio of the video\n",
        "      arr = changeRatio(arr, height, width)\n",
        "\n",
        "      #5 - Create a small video sample of 2s\n",
        "      arr = splitVideo(arr, sampleTime*fps)\n",
        "\n",
        "      for sample in arr:\n",
        "        fpsDelay = randint(0, max(int(len(sample)/2)-1, 0))\n",
        "        arrDelayed, arrAdvanced = delayBetweenTwoArrays(fpsDelay, sample)\n",
        "\n",
        "        #7 - Save modified video\n",
        "        arrayToVideo(arrDelayed, f\"{saveDirectory}/{id}arrD_{fpsDelay}\", height, width, fps, gray)\n",
        "        arrayToVideo(arrAdvanced, f\"{saveDirectory}/{id}arrA_{fpsDelay}\",height, width, fps, gray)\n",
        "        id +=1\n",
        "  return id"
      ],
      "metadata": {
        "id": "FP1ZShkCfYjH"
      },
      "execution_count": 10,
      "outputs": []
    },
    {
      "cell_type": "markdown",
      "source": [
        "#Video processing"
      ],
      "metadata": {
        "id": "A8zXbITWaFws"
      }
    },
    {
      "cell_type": "markdown",
      "source": [
        "##Youtube dataset"
      ],
      "metadata": {
        "id": "gbtxS9FXaifL"
      }
    },
    {
      "cell_type": "code",
      "source": [
        "sizeDataSet = videoProcessingYoutube(\"/content/drive/MyDrive/ISIA Lab/Dataset/YouTube\", \"/content/drive/MyDrive/ISIA Lab/Dataset/YouTube processed\")"
      ],
      "metadata": {
        "id": "_AogPI91hxYM",
        "colab": {
          "base_uri": "https://localhost:8080/"
        },
        "outputId": "55cb6dec-a6f1-4984-e795-ca45474d2908"
      },
      "execution_count": 11,
      "outputs": [
        {
          "output_type": "stream",
          "name": "stderr",
          "text": [
            "100%|██████████| 1969/1969 [52:58<00:00,  1.61s/it]\n"
          ]
        }
      ]
    },
    {
      "cell_type": "code",
      "source": [
        "print(f\"Size of youtube dataset created: {sizeDataSet}\")"
      ],
      "metadata": {
        "colab": {
          "base_uri": "https://localhost:8080/"
        },
        "id": "AAlEGuG_q4Kr",
        "outputId": "538bbedb-61a3-457c-ab0d-9dbe8b5591ad"
      },
      "execution_count": 12,
      "outputs": [
        {
          "output_type": "stream",
          "name": "stdout",
          "text": [
            "Size of youtube dataset created: 13636\n"
          ]
        }
      ]
    }
  ]
}