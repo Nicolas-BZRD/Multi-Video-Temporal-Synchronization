{
  "nbformat": 4,
  "nbformat_minor": 0,
  "metadata": {
    "colab": {
      "name": "Video processing.ipynb",
      "provenance": [],
      "collapsed_sections": [],
      "authorship_tag": "ABX9TyPD9M8dNMUYObCwHqxldjfx",
      "include_colab_link": true
    },
    "kernelspec": {
      "name": "python3",
      "display_name": "Python 3"
    },
    "language_info": {
      "name": "python"
    }
  },
  "cells": [
    {
      "cell_type": "markdown",
      "metadata": {
        "id": "view-in-github",
        "colab_type": "text"
      },
      "source": [
        "<a href=\"https://colab.research.google.com/github/Nicolas-BZRD/Multi-Video-Temporal-Synchronization/blob/main/Video_processing.ipynb\" target=\"_parent\"><img src=\"https://colab.research.google.com/assets/colab-badge.svg\" alt=\"Open In Colab\"/></a>"
      ]
    },
    {
      "cell_type": "markdown",
      "source": [
        "#Notebook to create a video dataset with delay."
      ],
      "metadata": {
        "id": "AS1izRUuERGY"
      }
    },
    {
      "cell_type": "code",
      "execution_count": 1,
      "metadata": {
        "id": "vUYmLX1xCfOF"
      },
      "outputs": [],
      "source": [
        "import os\n",
        "from random import randint\n",
        "\n",
        "import cv2\n",
        "import numpy as np\n",
        "\n",
        "from tqdm import tqdm"
      ]
    },
    {
      "cell_type": "code",
      "source": [
        "from google.colab import drive\n",
        "drive.mount('/content/drive')"
      ],
      "metadata": {
        "colab": {
          "base_uri": "https://localhost:8080/"
        },
        "id": "zrw3m6IJIUte",
        "outputId": "c2312834-b676-4ae5-c39f-ce6f6c8f0eec"
      },
      "execution_count": 2,
      "outputs": [
        {
          "output_type": "stream",
          "name": "stdout",
          "text": [
            "Drive already mounted at /content/drive; to attempt to forcibly remount, call drive.mount(\"/content/drive\", force_remount=True).\n"
          ]
        }
      ]
    },
    {
      "cell_type": "markdown",
      "source": [
        "#Processing functions"
      ],
      "metadata": {
        "id": "7H7TmjGIaDqb"
      }
    },
    {
      "cell_type": "markdown",
      "source": [
        "Tools functions"
      ],
      "metadata": {
        "id": "MmjJrdZaPe5Q"
      }
    },
    {
      "cell_type": "code",
      "source": [
        "def videoToArray(path):\n",
        "  video = cv2.VideoCapture(path)\n",
        "  fps = video.get(5)\n",
        "  arr = []\n",
        "\n",
        "  success, image = video.read()\n",
        "\n",
        "  while success:\n",
        "    arr.append(image)\n",
        "    success, image = video.read()\n",
        "\n",
        "  return arr, fps"
      ],
      "metadata": {
        "id": "zalEE8LqM94S"
      },
      "execution_count": 3,
      "outputs": []
    },
    {
      "cell_type": "code",
      "source": [
        "def delayBetweenTwoArrays(fpsDelay, arrayFirstVideo, arraySecondVideo=[]):\n",
        "    arrDelay = arrayFirstVideo[fpsDelay:]\n",
        "    if(arraySecondVideo != []):\n",
        "      arrAdvance = arraySecondVideo[:-fpsDelay]\n",
        "    else:\n",
        "      arrAdvance = arrayFirstVideo[:-fpsDelay]\n",
        "\n",
        "    return arrDelay, arrAdvance"
      ],
      "metadata": {
        "id": "cj2JsB4-Qcfz"
      },
      "execution_count": 4,
      "outputs": []
    },
    {
      "cell_type": "code",
      "source": [
        "def arrayToGray(arr):\n",
        "  rgb_weights = [0.2989, 0.5870, 0.1140]\n",
        "  arrGray = []\n",
        "\n",
        "  for img in arr:\n",
        "    arrGray.append(cv2.cvtColor(img, cv2.COLOR_BGR2GRAY).astype(np.uint8))\n",
        "  return arrGray"
      ],
      "metadata": {
        "id": "d9GWTCKE_0PV"
      },
      "execution_count": 5,
      "outputs": []
    },
    {
      "cell_type": "code",
      "source": [
        "def arrayResize(arr, width, height):\n",
        "  arrResize = []\n",
        "\n",
        "  for img in arr:\n",
        "    arrResize.append(cv2.resize(img, dsize=(width, height), interpolation=cv2.INTER_CUBIC))\n",
        "\n",
        "  return arrResize"
      ],
      "metadata": {
        "id": "99kcnezFR5rq"
      },
      "execution_count": 6,
      "outputs": []
    },
    {
      "cell_type": "code",
      "source": [
        "def arrayToVideo(arr, name=\"output\", fps=30, gray=False):\n",
        "  height, width = len(arr[0]), len(arr[0][0])\n",
        "\n",
        "  if(gray):\n",
        "    out = cv2.VideoWriter(f\"{name}.mp4\", cv2.VideoWriter_fourcc('m', 'p', '4', 'v'), fps, (width, height), 0)\n",
        "  else:\n",
        "    out = cv2.VideoWriter(f\"{name}.mp4\", cv2.VideoWriter_fourcc('m', 'p', '4', 'v'), fps, (width, height))\n",
        "  \n",
        "  [out.write(f) for f in arr]\n",
        "  out.release()"
      ],
      "metadata": {
        "id": "VsbKzw_UaKot"
      },
      "execution_count": 7,
      "outputs": []
    },
    {
      "cell_type": "markdown",
      "source": [
        "Function to apply all differents tools:"
      ],
      "metadata": {
        "id": "AIKuiAy1PCMz"
      }
    },
    {
      "cell_type": "code",
      "source": [
        "def videoProcessingYoutube(directory, outputWidth=260, outoutHeight=260, gray=False):\n",
        "  count = 0\n",
        "  for filename in tqdm(os.listdir(directory)):\n",
        "    try:\n",
        "      f = os.path.join(directory, filename)\n",
        "      if os.path.isfile(f):\n",
        "        arr, fps = videoToArray(f)\n",
        "\n",
        "        length = len(arr)\n",
        "        if length > 450:\n",
        "          continue\n",
        "\n",
        "        if(gray):\n",
        "          arr = arrayToGray(arr)\n",
        "\n",
        "        arr = arrayResize(arr, outputWidth, outoutHeight)\n",
        "        fpsDelay = randint(0, max(length-60, 0))\n",
        "        arrD, arrA = delayBetweenTwoArrays(fpsDelay, arr)\n",
        "\n",
        "        arrayToVideo(arrD, f\"/content/drive/MyDrive/ISIA Lab/Dataset/YouTube processed/{count}arrD_{fpsDelay}f\", fps)\n",
        "        arrayToVideo(arrA, f\"/content/drive/MyDrive/ISIA Lab/Dataset/YouTube processed/{count}arrA_{fpsDelay}f\", fps)\n",
        "      \n",
        "    except:\n",
        "      print(f)\n",
        "    finally:\n",
        "      count += 1\n",
        "\n"
      ],
      "metadata": {
        "id": "FP1ZShkCfYjH"
      },
      "execution_count": 8,
      "outputs": []
    },
    {
      "cell_type": "markdown",
      "source": [
        "#Video processing"
      ],
      "metadata": {
        "id": "A8zXbITWaFws"
      }
    },
    {
      "cell_type": "markdown",
      "source": [
        "##Youtube dataset"
      ],
      "metadata": {
        "id": "gbtxS9FXaifL"
      }
    },
    {
      "cell_type": "code",
      "source": [
        "# videoProcessingYoutube(\"/content/drive/MyDrive/ISIA Lab/Dataset/YouTube\")"
      ],
      "metadata": {
        "id": "_AogPI91hxYM",
        "colab": {
          "base_uri": "https://localhost:8080/"
        },
        "outputId": "cd2e1a64-a95b-4f77-9968-4ec58312475f"
      },
      "execution_count": 9,
      "outputs": [
        {
          "output_type": "stream",
          "name": "stderr",
          "text": [
            "  1%|          | 10/1969 [00:14<48:55,  1.50s/it]"
          ]
        },
        {
          "output_type": "stream",
          "name": "stdout",
          "text": [
            "/content/drive/MyDrive/ISIA Lab/Dataset/YouTube/GzlnqrzdYHU_32_40.avi\n"
          ]
        },
        {
          "output_type": "stream",
          "name": "stderr",
          "text": [
            "  8%|▊         | 164/1969 [03:12<54:42,  1.82s/it]"
          ]
        },
        {
          "output_type": "stream",
          "name": "stdout",
          "text": [
            "/content/drive/MyDrive/ISIA Lab/Dataset/YouTube/8yS2wqwActs_2_14.avi\n"
          ]
        },
        {
          "output_type": "stream",
          "name": "stderr",
          "text": [
            " 11%|█         | 220/1969 [04:20<38:46,  1.33s/it]"
          ]
        },
        {
          "output_type": "stream",
          "name": "stdout",
          "text": [
            "/content/drive/MyDrive/ISIA Lab/Dataset/YouTube/992zi9V3oiQ_15_17.avi\n"
          ]
        },
        {
          "output_type": "stream",
          "name": "stderr",
          "text": [
            " 13%|█▎        | 252/1969 [04:53<22:19,  1.28it/s]"
          ]
        },
        {
          "output_type": "stream",
          "name": "stdout",
          "text": [
            "/content/drive/MyDrive/ISIA Lab/Dataset/YouTube/1TjqADyYyxI_36_45.avi\n"
          ]
        },
        {
          "output_type": "stream",
          "name": "stderr",
          "text": [
            " 14%|█▍        | 279/1969 [05:14<21:49,  1.29it/s]"
          ]
        },
        {
          "output_type": "stream",
          "name": "stdout",
          "text": [
            "/content/drive/MyDrive/ISIA Lab/Dataset/YouTube/RieF9wrFd8s_1_8.avi\n"
          ]
        },
        {
          "output_type": "stream",
          "name": "stderr",
          "text": [
            " 18%|█▊        | 348/1969 [06:18<32:58,  1.22s/it]"
          ]
        },
        {
          "output_type": "stream",
          "name": "stdout",
          "text": [
            "/content/drive/MyDrive/ISIA Lab/Dataset/YouTube/-mAoVOhKy0c_4_9.avi\n"
          ]
        },
        {
          "output_type": "stream",
          "name": "stderr",
          "text": [
            " 18%|█▊        | 351/1969 [06:22<29:05,  1.08s/it]"
          ]
        },
        {
          "output_type": "stream",
          "name": "stdout",
          "text": [
            "/content/drive/MyDrive/ISIA Lab/Dataset/YouTube/3OPQqH3YlHA_50_54.avi\n"
          ]
        },
        {
          "output_type": "stream",
          "name": "stderr",
          "text": [
            " 29%|██▉       | 572/1969 [10:32<16:57,  1.37it/s]"
          ]
        },
        {
          "output_type": "stream",
          "name": "stdout",
          "text": [
            "/content/drive/MyDrive/ISIA Lab/Dataset/YouTube/eVSQiPbepXg_44_49.avi\n",
            "/content/drive/MyDrive/ISIA Lab/Dataset/YouTube/nTasT5h0LEg_12_14.avi\n"
          ]
        },
        {
          "output_type": "stream",
          "name": "stderr",
          "text": [
            " 30%|██▉       | 590/1969 [10:54<17:48,  1.29it/s]"
          ]
        },
        {
          "output_type": "stream",
          "name": "stdout",
          "text": [
            "/content/drive/MyDrive/ISIA Lab/Dataset/YouTube/C9vRgZDxTv4_26_33.avi\n"
          ]
        },
        {
          "output_type": "stream",
          "name": "stderr",
          "text": [
            " 31%|███       | 602/1969 [11:04<24:49,  1.09s/it]"
          ]
        },
        {
          "output_type": "stream",
          "name": "stdout",
          "text": [
            "/content/drive/MyDrive/ISIA Lab/Dataset/YouTube/Z10_CDPQKKs_1_6.avi\n"
          ]
        },
        {
          "output_type": "stream",
          "name": "stderr",
          "text": [
            " 31%|███       | 610/1969 [11:10<15:38,  1.45it/s]"
          ]
        },
        {
          "output_type": "stream",
          "name": "stdout",
          "text": [
            "/content/drive/MyDrive/ISIA Lab/Dataset/YouTube/Qp-k0H93iJE_35_39.avi\n"
          ]
        },
        {
          "output_type": "stream",
          "name": "stderr",
          "text": [
            " 33%|███▎      | 658/1969 [11:57<17:11,  1.27it/s]"
          ]
        },
        {
          "output_type": "stream",
          "name": "stdout",
          "text": [
            "/content/drive/MyDrive/ISIA Lab/Dataset/YouTube/TPD5wO_LEPU_2_6.avi\n"
          ]
        },
        {
          "output_type": "stream",
          "name": "stderr",
          "text": [
            " 40%|████      | 788/1969 [14:18<17:19,  1.14it/s]"
          ]
        },
        {
          "output_type": "stream",
          "name": "stdout",
          "text": [
            "/content/drive/MyDrive/ISIA Lab/Dataset/YouTube/d-2C_N5anww_1_3.avi\n"
          ]
        },
        {
          "output_type": "stream",
          "name": "stderr",
          "text": [
            " 45%|████▍     | 885/1969 [15:47<10:51,  1.66it/s]"
          ]
        },
        {
          "output_type": "stream",
          "name": "stdout",
          "text": [
            "/content/drive/MyDrive/ISIA Lab/Dataset/YouTube/GEXqMH8I3_w_14_18.avi\n"
          ]
        },
        {
          "output_type": "stream",
          "name": "stderr",
          "text": [
            " 51%|█████     | 1000/1969 [18:01<14:01,  1.15it/s]"
          ]
        },
        {
          "output_type": "stream",
          "name": "stdout",
          "text": [
            "/content/drive/MyDrive/ISIA Lab/Dataset/YouTube/2YhDTpzxd3c_166_170.avi\n"
          ]
        },
        {
          "output_type": "stream",
          "name": "stderr",
          "text": [
            " 57%|█████▋    | 1114/1969 [19:59<34:52,  2.45s/it]"
          ]
        },
        {
          "output_type": "stream",
          "name": "stdout",
          "text": [
            "/content/drive/MyDrive/ISIA Lab/Dataset/YouTube/NjCqtzZ3OtU_303_307.avi\n"
          ]
        },
        {
          "output_type": "stream",
          "name": "stderr",
          "text": [
            " 59%|█████▊    | 1154/1969 [20:39<09:53,  1.37it/s]"
          ]
        },
        {
          "output_type": "stream",
          "name": "stdout",
          "text": [
            "/content/drive/MyDrive/ISIA Lab/Dataset/YouTube/UbmZAe5u5FI_16_23.avi\n"
          ]
        },
        {
          "output_type": "stream",
          "name": "stderr",
          "text": [
            " 62%|██████▏   | 1228/1969 [21:58<08:51,  1.39it/s]"
          ]
        },
        {
          "output_type": "stream",
          "name": "stdout",
          "text": [
            "/content/drive/MyDrive/ISIA Lab/Dataset/YouTube/UnWgz-mVMXU_2_6.avi\n"
          ]
        },
        {
          "output_type": "stream",
          "name": "stderr",
          "text": [
            " 63%|██████▎   | 1248/1969 [22:23<08:57,  1.34it/s]"
          ]
        },
        {
          "output_type": "stream",
          "name": "stdout",
          "text": [
            "/content/drive/MyDrive/ISIA Lab/Dataset/YouTube/-7KMZQEsJW4_205_208.avi\n"
          ]
        },
        {
          "output_type": "stream",
          "name": "stderr",
          "text": [
            " 65%|██████▌   | 1282/1969 [22:57<07:48,  1.47it/s]"
          ]
        },
        {
          "output_type": "stream",
          "name": "stdout",
          "text": [
            "/content/drive/MyDrive/ISIA Lab/Dataset/YouTube/iuqVpMdb1NM_35_43.avi\n"
          ]
        },
        {
          "output_type": "stream",
          "name": "stderr",
          "text": [
            " 66%|██████▋   | 1305/1969 [23:18<10:37,  1.04it/s]"
          ]
        },
        {
          "output_type": "stream",
          "name": "stdout",
          "text": [
            "/content/drive/MyDrive/ISIA Lab/Dataset/YouTube/77iDIp40m9E_119_123.avi\n"
          ]
        },
        {
          "output_type": "stream",
          "name": "stderr",
          "text": [
            " 67%|██████▋   | 1326/1969 [23:33<06:23,  1.68it/s]"
          ]
        },
        {
          "output_type": "stream",
          "name": "stdout",
          "text": [
            "/content/drive/MyDrive/ISIA Lab/Dataset/YouTube/vz71JKcpeUU_0_10.avi\n"
          ]
        },
        {
          "output_type": "stream",
          "name": "stderr",
          "text": [
            " 68%|██████▊   | 1331/1969 [23:45<25:39,  2.41s/it]"
          ]
        },
        {
          "output_type": "stream",
          "name": "stdout",
          "text": [
            "/content/drive/MyDrive/ISIA Lab/Dataset/YouTube/9xVqwy_4pmQ_36_49.avi\n"
          ]
        },
        {
          "output_type": "stream",
          "name": "stderr",
          "text": [
            " 72%|███████▏  | 1427/1969 [25:23<09:16,  1.03s/it]"
          ]
        },
        {
          "output_type": "stream",
          "name": "stdout",
          "text": [
            "/content/drive/MyDrive/ISIA Lab/Dataset/YouTube/_UqnTFs1BLc_23_27.avi\n"
          ]
        },
        {
          "output_type": "stream",
          "name": "stderr",
          "text": [
            " 76%|███████▌  | 1488/1969 [26:37<05:19,  1.51it/s]"
          ]
        },
        {
          "output_type": "stream",
          "name": "stdout",
          "text": [
            "/content/drive/MyDrive/ISIA Lab/Dataset/YouTube/gHzws6FpuNE_10_12.avi\n"
          ]
        },
        {
          "output_type": "stream",
          "name": "stderr",
          "text": [
            " 76%|███████▌  | 1491/1969 [26:38<05:04,  1.57it/s]"
          ]
        },
        {
          "output_type": "stream",
          "name": "stdout",
          "text": [
            "/content/drive/MyDrive/ISIA Lab/Dataset/YouTube/pQYEZTwSVbQ_12_18.avi\n"
          ]
        },
        {
          "output_type": "stream",
          "name": "stderr",
          "text": [
            " 79%|███████▊  | 1547/1969 [28:01<09:18,  1.32s/it]"
          ]
        },
        {
          "output_type": "stream",
          "name": "stdout",
          "text": [
            "/content/drive/MyDrive/ISIA Lab/Dataset/YouTube/a1i6T160REQ_5_18.avi\n"
          ]
        },
        {
          "output_type": "stream",
          "name": "stderr",
          "text": [
            " 80%|███████▉  | 1573/1969 [28:34<04:21,  1.52it/s]"
          ]
        },
        {
          "output_type": "stream",
          "name": "stdout",
          "text": [
            "/content/drive/MyDrive/ISIA Lab/Dataset/YouTube/rOic25PnIx8_1_3.avi\n"
          ]
        },
        {
          "output_type": "stream",
          "name": "stderr",
          "text": [
            " 80%|████████  | 1578/1969 [28:38<04:11,  1.55it/s]"
          ]
        },
        {
          "output_type": "stream",
          "name": "stdout",
          "text": [
            "/content/drive/MyDrive/ISIA Lab/Dataset/YouTube/SaOqf2d-y30_22_27.avi\n"
          ]
        },
        {
          "output_type": "stream",
          "name": "stderr",
          "text": [
            " 88%|████████▊ | 1724/1969 [31:50<05:10,  1.27s/it]"
          ]
        },
        {
          "output_type": "stream",
          "name": "stdout",
          "text": [
            "/content/drive/MyDrive/ISIA Lab/Dataset/YouTube/fBA_lxUiwSg_2_4.avi\n"
          ]
        },
        {
          "output_type": "stream",
          "name": "stderr",
          "text": [
            " 89%|████████▊ | 1746/1969 [32:10<03:06,  1.20it/s]"
          ]
        },
        {
          "output_type": "stream",
          "name": "stdout",
          "text": [
            "/content/drive/MyDrive/ISIA Lab/Dataset/YouTube/FXWdmIHXS_U_3_10.avi\n"
          ]
        },
        {
          "output_type": "stream",
          "name": "stderr",
          "text": [
            " 97%|█████████▋| 1909/1969 [35:40<00:56,  1.07it/s]"
          ]
        },
        {
          "output_type": "stream",
          "name": "stdout",
          "text": [
            "/content/drive/MyDrive/ISIA Lab/Dataset/YouTube/s6QwbmWbSmw_18_24.avi\n"
          ]
        },
        {
          "output_type": "stream",
          "name": "stderr",
          "text": [
            " 98%|█████████▊| 1931/1969 [36:02<00:22,  1.72it/s]"
          ]
        },
        {
          "output_type": "stream",
          "name": "stdout",
          "text": [
            "/content/drive/MyDrive/ISIA Lab/Dataset/YouTube/DuMkW35BwK8_43_47.avi\n"
          ]
        },
        {
          "output_type": "stream",
          "name": "stderr",
          "text": [
            "100%|██████████| 1969/1969 [36:45<00:00,  1.12s/it]\n"
          ]
        }
      ]
    }
  ]
}