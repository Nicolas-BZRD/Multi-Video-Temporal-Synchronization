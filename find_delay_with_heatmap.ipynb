{
 "cells": [
  {
   "cell_type": "markdown",
   "metadata": {},
   "source": [
    "# Algo to find delay between video with heatmap"
   ]
  },
  {
   "cell_type": "code",
   "execution_count": 1,
   "metadata": {},
   "outputs": [],
   "source": [
    "import numpy as np\n",
    "import seaborn as sns"
   ]
  },
  {
   "cell_type": "code",
   "execution_count": 2,
   "metadata": {},
   "outputs": [],
   "source": [
    "ds = np.load(r\"datasets\\flow_similarity_with_delay.npy\", allow_pickle=True)"
   ]
  },
  {
   "cell_type": "code",
   "execution_count": 3,
   "metadata": {},
   "outputs": [],
   "source": [
    "ds = ds.tolist()\n",
    "data = []\n",
    "for i in range(len(ds)):\n",
    "    if ds[i][1]!=-1 and ds[i][1]<10:\n",
    "        data.append(ds[i])\n",
    "\n",
    "data = np.array(data, dtype=object)"
   ]
  },
  {
   "cell_type": "code",
   "execution_count": 7,
   "metadata": {},
   "outputs": [
    {
     "name": "stdout",
     "output_type": "stream",
     "text": [
      "0\n",
      "1\n"
     ]
    },
    {
     "data": {
      "image/png": "[encoded data removed]",
      "text/plain": [
       "<Figure size 432x288 with 2 Axes>"
      ]
     },
     "metadata": {
      "needs_background": "light"
     },
     "output_type": "display_data"
    }
   ],
   "source": [
    "video = 1200\n",
    "\n",
    "x = data[video][0]\n",
    "y = data[video][1]\n",
    "\n",
    "shape = (20,20)\n",
    "result = np.reshape(x, shape)\n",
    "heatMap = np.zeros(result.shape)\n",
    "heatMap[np.argmax(result, axis=0), np.arange(result.shape[1])] = 1\n",
    "\n",
    "print(y)\n",
    "sns.heatmap(heatMap)\n",
    "\n",
    "# ------------------------------\n",
    "\n",
    "delay = dict(zip([*range(20)], [0] * 20))\n",
    "\n",
    "z = 0\n",
    "for i in range(20):\n",
    "    for j in range(20):\n",
    "        if(heatMap[i][j]==1):\n",
    "            tmp = i-j if i > j else j-i\n",
    "            delay[tmp]+=1\n",
    "\n",
    "print(max(delay, key=delay.get))"
   ]
  }
 ],
 "metadata": {
  "kernelspec": {
   "display_name": "Python 3.10.4 ('ISIA_Lab')",
   "language": "python",
   "name": "python3"
  },
  "language_info": {
   "codemirror_mode": {
    "name": "ipython",
    "version": 3
   },
   "file_extension": ".py",
   "mimetype": "text/x-python",
   "name": "python",
   "nbconvert_exporter": "python",
   "pygments_lexer": "ipython3",
   "version": "3.10.4"
  },
  "orig_nbformat": 4,
  "vscode": {
   "interpreter": {
    "hash": "7c0d6cd7e7b2dd3a684bd626136cbce18dfad75f379eaa16c3a03313d5d7d178"
   }
  }
 },
 "nbformat": 4,
 "nbformat_minor": 2
}
