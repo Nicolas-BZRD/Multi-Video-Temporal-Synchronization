{
 "cells": [
  {
   "cell_type": "markdown",
   "metadata": {},
   "source": [
    "# Pre-processing stereo data from ISIA Lab"
   ]
  },
  {
   "cell_type": "code",
   "execution_count": 6,
   "metadata": {},
   "outputs": [],
   "source": [
    "import os\n",
    "import cv2 as cv\n",
    "import random"
   ]
  },
  {
   "cell_type": "code",
   "execution_count": 8,
   "metadata": {},
   "outputs": [
    {
     "name": "stdout",
     "output_type": "stream",
     "text": [
      "Corridor 1\n",
      "Corridor 2\n",
      "Entrance\n",
      "Kitchen\n",
      "MeetingsRoom\n",
      "Numediart\n",
      "Office1\n",
      "Office2\n",
      "Office3\n",
      "Office4\n",
      "OpenplanOffice1\n",
      "OpenplanOffice2\n",
      "OpenplanOffice3\n"
     ]
    }
   ],
   "source": [
    "pathData = r\"C:\\Users\\Nicolas Boizard\\Downloads\\dataset\\tmp\\H1\"\n",
    "pathSave = r\"C:\\Users\\Nicolas Boizard\\Downloads\\dataset\\ISIA\"\n",
    "\n",
    "id = 0\n",
    "directories = os.listdir(pathData)\n",
    "for directory in directories:\n",
    "    print(directory)\n",
    "    images = os.listdir(f\"{pathData}/{directory}/data/left\")\n",
    "    for image in images:\n",
    "        # Good pair\n",
    "        l = cv.imread(f\"{pathData}/{directory}/data/left/{image}\", cv.IMREAD_GRAYSCALE)\n",
    "        r = cv.imread(f\"{pathData}/{directory}/data/right/{image}\", cv.IMREAD_GRAYSCALE)\n",
    "\n",
    "        l = cv.resize(l, dsize=(224, 224))\n",
    "        r = cv.resize(r, dsize=(224, 224))\n",
    "\n",
    "        cv.imwrite(f\"{pathSave}/1/left/{id}.jpg\", l)\n",
    "        cv.imwrite(f\"{pathSave}/1/right/{id}.jpg\", r)\n",
    "\n",
    "        # Wrong pair\n",
    "        frame = 0\n",
    "        secondImage = \"\"\n",
    "        while(frame == 0 or secondImage not in images):\n",
    "            frame = random.randint(-10,10)\n",
    "            secondImage = image.split('.')\n",
    "            secondImage[0] = str(int(secondImage[0])+frame)\n",
    "            secondImage = '.'.join(secondImage)\n",
    "        \n",
    "        r = cv.imread(f\"{pathData}/{directory}/data/right/{secondImage}\", cv.IMREAD_GRAYSCALE)\n",
    "        r = cv.resize(r, dsize=(224, 224))\n",
    "\n",
    "        cv.imwrite(f\"{pathSave}/0/left/{id}.jpg\", l)\n",
    "        cv.imwrite(f\"{pathSave}/0/right/{id}.jpg\", r)\n",
    "        id+=1"
   ]
  }
 ],
 "metadata": {
  "interpreter": {
   "hash": "2b4d249b02c69cb49be23a9fc74813e00a7a41fdc20e5f403a81024bec2a683d"
  },
  "kernelspec": {
   "display_name": "Python 3.10.4 ('Multi-Video-Temporal-Synchronization')",
   "language": "python",
   "name": "python3"
  },
  "language_info": {
   "codemirror_mode": {
    "name": "ipython",
    "version": 3
   },
   "file_extension": ".py",
   "mimetype": "text/x-python",
   "name": "python",
   "nbconvert_exporter": "python",
   "pygments_lexer": "ipython3",
   "version": "3.10.4"
  },
  "orig_nbformat": 4
 },
 "nbformat": 4,
 "nbformat_minor": 2
}
