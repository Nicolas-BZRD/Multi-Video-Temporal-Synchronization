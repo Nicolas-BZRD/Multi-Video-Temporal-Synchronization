{
 "cells": [
  {
   "cell_type": "code",
   "execution_count": 1,
   "metadata": {},
   "outputs": [],
   "source": [
    "import os\n",
    "import random\n",
    "\n",
    "import tensorflow as tf\n",
    "from tensorflow.keras import models, layers, backend, callbacks, metrics, utils\n",
    "from tensorflow import data\n",
    "\n",
    "import cv2 as cv\n",
    "import numpy as np"
   ]
  },
  {
   "cell_type": "markdown",
   "metadata": {},
   "source": [
    "# Rename"
   ]
  },
  {
   "cell_type": "code",
   "execution_count": 20,
   "metadata": {},
   "outputs": [],
   "source": [
    "for i in range(1, 1301):\n",
    "    os.rename(fr\"notebooks\\Robot - test\\robot\\right\\  ({i}).jpg\", fr\"notebooks\\Robot - test\\robot\\right\\{i}.jpg\")"
   ]
  },
  {
   "cell_type": "markdown",
   "metadata": {},
   "source": [
    "# Open CV Flow - Create flow images"
   ]
  },
  {
   "cell_type": "code",
   "execution_count": 2,
   "metadata": {},
   "outputs": [
    {
     "name": "stdout",
     "output_type": "stream",
     "text": [
      "error: 173\n",
      "error: 370\n",
      "error: 398\n",
      "error: 829\n",
      "error: 974\n",
      "error: 1158\n",
      "error: 1252\n",
      "error: 1267\n",
      "error: 1296\n"
     ]
    }
   ],
   "source": [
    "path = fr\"notebooks\\robot\"\n",
    "pathSave = fr\"notebooks\\robot_cv_flow\"\n",
    "numberImages = len(os.listdir(fr\"{path}\\left\"))\n",
    "\n",
    "i = 1; error=0\n",
    "frame = cv.imread(fr\"{path}\\left\\{i}.jpg\")\n",
    "prvsL = cv.cvtColor(frame,cv.COLOR_BGR2GRAY)\n",
    "\n",
    "frame = cv.imread(fr\"{path}\\right\\{i}.jpg\")\n",
    "prvsR = cv.cvtColor(frame,cv.COLOR_BGR2GRAY)\n",
    "hsv = np.zeros_like(frame)\n",
    "hsv[...,1] = 255\n",
    "i+=1\n",
    "\n",
    "while i <= numberImages:\n",
    "    #Left\n",
    "    frame = cv.imread(fr\"{path}\\left\\{i}.jpg\")\n",
    "    nextL = cv.cvtColor(frame,cv.COLOR_BGR2GRAY)\n",
    "\n",
    "    flow = cv.calcOpticalFlowFarneback(prvsL,nextL, None, 0.5, 3, 15, 3, 5, 1.2, 0)\n",
    "\n",
    "    mag, ang = cv.cartToPolar(flow[...,0], flow[...,1])\n",
    "    hsv[...,0] = ang*180/np.pi/2\n",
    "    hsv[...,2] = cv.normalize(mag,None,0,255,cv.NORM_MINMAX)\n",
    "    rgb_flowL = cv.cvtColor(hsv,cv.COLOR_HSV2BGR)\n",
    "\n",
    "    rgb_flowL = cv.normalize(rgb_flowL, dst=None, alpha=0, beta=255,norm_type=cv.NORM_MINMAX, dtype=cv.CV_8U)\n",
    "\n",
    "    #Right\n",
    "    frame = cv.imread(fr\"{path}\\right\\{i}.jpg\")\n",
    "    nextR = cv.cvtColor(frame,cv.COLOR_BGR2GRAY)\n",
    "\n",
    "    flow = cv.calcOpticalFlowFarneback(prvsR,nextR, None, 0.5, 3, 15, 3, 5, 1.2, 0)\n",
    "\n",
    "    mag, ang = cv.cartToPolar(flow[...,0], flow[...,1])\n",
    "    hsv[...,0] = ang*180/np.pi/2\n",
    "    hsv[...,2] = cv.normalize(mag,None,0,255,cv.NORM_MINMAX)\n",
    "    rgb_flowR = cv.cvtColor(hsv,cv.COLOR_HSV2BGR)\n",
    "\n",
    "    rgb_flowR = cv.normalize(rgb_flowR, dst=None, alpha=0, beta=255,norm_type=cv.NORM_MINMAX, dtype=cv.CV_8U)\n",
    "\n",
    "    if(np.any(rgb_flowL != 0) and np.any(rgb_flowR != 0)):\n",
    "        cv.imwrite(f\"{pathSave}/left/{i-1}.jpg\", rgb_flowL)\n",
    "        cv.imwrite(f\"{pathSave}/right/{i-1}.jpg\", rgb_flowR)\n",
    "        prvsL = nextL\n",
    "        prvsR = nextR\n",
    "        i+=1\n",
    "    else:\n",
    "        error+=1\n",
    "        if(error==20):\n",
    "            print(f\"error: {i}\")\n",
    "            error=0\n",
    "            i+=1\n",
    "            frame = cv.imread(fr\"{path}\\left\\{i}.jpg\")\n",
    "            prvsL = cv.cvtColor(frame,cv.COLOR_BGR2GRAY)\n",
    "            frame = cv.imread(fr\"{path}\\right\\{i}.jpg\")\n",
    "            prvsR = cv.cvtColor(frame,cv.COLOR_BGR2GRAY)\n",
    "            i+=1"
   ]
  },
  {
   "cell_type": "markdown",
   "metadata": {},
   "source": [
    "# Create pair of images"
   ]
  },
  {
   "cell_type": "code",
   "execution_count": 3,
   "metadata": {},
   "outputs": [],
   "source": [
    "path = r\"notebooks\\robot_cv_flow\"\n",
    "pathSave = r\"notebooks\\robot_cv_flow_pair\"\n",
    "numberImages = len(os.listdir(fr\"{path}\\left\"))\n",
    "\n",
    "id = 1\n",
    "while id <= numberImages:\n",
    "    # Good pair\n",
    "\n",
    "    l = cv.imread(f\"{path}/left/{id}.jpg\")\n",
    "    r = cv.imread(f\"{path}/right/{id}.jpg\")\n",
    "\n",
    "    l = cv.resize(l, dsize=(224, 224))\n",
    "    r = cv.resize(r, dsize=(224, 224))\n",
    "\n",
    "    cv.imwrite(f\"{pathSave}/1/left/{id}.jpg\", l)\n",
    "    cv.imwrite(f\"{pathSave}/1/right/{id}.jpg\", r)\n",
    "\n",
    "    # Wrong pair\n",
    "    frame = 0\n",
    "    secondImage = 0\n",
    "    while(frame == 0 or secondImage not in range(1,numberImages+1)):\n",
    "        frame = random.randint(-10,10)\n",
    "        secondImage = id+frame\n",
    "    \n",
    "    r = cv.imread(f\"{path}/right/{secondImage}.jpg\")\n",
    "\n",
    "    cv.imwrite(f\"{pathSave}/0/left/{id}.jpg\", l)\n",
    "    cv.imwrite(f\"{pathSave}/0/right/{id}.jpg\", r)\n",
    "    \n",
    "    id+=1"
   ]
  },
  {
   "cell_type": "markdown",
   "metadata": {},
   "source": [
    "# Siamese network - test"
   ]
  },
  {
   "cell_type": "markdown",
   "metadata": {},
   "source": [
    "### Model"
   ]
  },
  {
   "cell_type": "code",
   "execution_count": 2,
   "metadata": {},
   "outputs": [
    {
     "data": {
      "text/plain": [
       "<tensorflow.python.training.tracking.util.CheckpointLoadStatus at 0x25f07fa0bb0>"
      ]
     },
     "execution_count": 2,
     "metadata": {},
     "output_type": "execute_result"
    }
   ],
   "source": [
    "img_shape = (224,224,3)\n",
    "dropout = [0,0,0,0]\n",
    "\n",
    "left_input = layers.Input(img_shape)\n",
    "right_input = layers.Input(img_shape)\n",
    "\n",
    "# Convolutional Neural Network\n",
    "cnn = models.Sequential()\n",
    "cnn.add(layers.Conv2D(32, (3, 3), activation='relu', input_shape=img_shape))\n",
    "cnn.add(layers.MaxPooling2D((3, 3)))\n",
    "cnn.add(layers.Dropout(dropout[0]))\n",
    "\n",
    "cnn.add(layers.Conv2D(48, (3, 3), activation='relu'))\n",
    "cnn.add(layers.MaxPooling2D((2, 2)))\n",
    "cnn.add(layers.Dropout(dropout[1]))\n",
    "\n",
    "cnn.add(layers.Conv2D(48, (3, 3), activation='relu'))\n",
    "cnn.add(layers.MaxPooling2D((2, 2)))\n",
    "cnn.add(layers.Dropout(dropout[2]))\n",
    "\n",
    "cnn.add(layers.Conv2D(64, (3, 3), activation='relu'))\n",
    "cnn.add(layers.MaxPooling2D((2, 2)))\n",
    "cnn.add(layers.Dropout(dropout[3]))\n",
    "\n",
    "cnn.add(layers.GlobalAveragePooling2D())\n",
    "cnn.add(layers.Dense(48, activation='relu'))\n",
    "\n",
    "# Generate the encodings (feature vectors) for the two images\n",
    "left_feats = cnn(left_input)\n",
    "right_fits = cnn(right_input)\n",
    "\n",
    "# Add a customized layer to compute the difference between the encodings\n",
    "difference_layer = layers.Lambda(lambda tensors:backend.abs(tensors[0] - tensors[1]))\n",
    "distance = difference_layer([left_feats, right_fits])\n",
    "\n",
    "# Add a dense layer with a sigmoid unit to generate the similarity score\n",
    "prediction = layers.Dense(1,activation='sigmoid')(distance)\n",
    "\n",
    "# Connect the inputs with the outputs\n",
    "model = models.Model(inputs=[left_input,right_input],outputs=prediction)\n",
    "\n",
    "# Compile the model\n",
    "model.compile(loss=\"binary_crossentropy\", optimizer=\"Adam\", metrics=[\"accuracy\", metrics.Recall(), metrics.Precision()])\n",
    "\n",
    "model.load_weights(\"weight/weights\")"
   ]
  },
  {
   "cell_type": "code",
   "execution_count": 3,
   "metadata": {},
   "outputs": [
    {
     "name": "stdout",
     "output_type": "stream",
     "text": [
      "Found 1299 files belonging to 1 classes.\n",
      "Found 1299 files belonging to 1 classes.\n",
      "Found 1299 files belonging to 1 classes.\n",
      "Found 1299 files belonging to 1 classes.\n"
     ]
    }
   ],
   "source": [
    "path = r\"notebooks\\robot_cv_flow_pair\"\n",
    "numberImages = len(os.listdir(fr\"{path}/0/left\"))\n",
    "\n",
    "# Get data from all the directories\n",
    "ds = [] #0->leftWrong, 1->rightWrong, 2->leftPair, 3->rightPair\n",
    "for label in range(0,2):\n",
    "    for side in ['left', 'right']:\n",
    "        tmp = utils.image_dataset_from_directory(\n",
    "            fr\"{path}/{label}/{side}\",\n",
    "            color_mode='rgb',\n",
    "            image_size=(224,224),\n",
    "            batch_size=None,\n",
    "            labels=None,\n",
    "            shuffle=False\n",
    "        )\n",
    "        tmp = tmp.map(lambda x: x/255)\n",
    "        ds.append(tmp)\n",
    "\n",
    "wrong = data.Dataset.zip((ds[0], ds[1]))\n",
    "pair = data.Dataset.zip((ds[2], ds[3]))\n",
    "\n",
    "# Create labels\n",
    "wrongLables = tf.zeros([numberImages])\n",
    "wrongLables = tf.data.Dataset.from_tensor_slices(wrongLables)\n",
    "wrong = tf.data.Dataset.zip((wrong, wrongLables))\n",
    "\n",
    "pairLabels = tf.ones([numberImages])\n",
    "pairLabels = tf.data.Dataset.from_tensor_slices(pairLabels)\n",
    "pair = tf.data.Dataset.zip((pair, pairLabels))\n",
    "\n",
    "ds = data.Dataset.sample_from_datasets([pair, wrong], weights=[0.5, 0.5])\n",
    "ds = ds.batch(1).prefetch(32)"
   ]
  },
  {
   "cell_type": "code",
   "execution_count": 4,
   "metadata": {},
   "outputs": [
    {
     "name": "stdout",
     "output_type": "stream",
     "text": [
      "2598/2598 [==============================] - 44s 17ms/step - loss: 1.1570 - accuracy: 0.6186 - recall: 0.4126 - precision: 0.7016\n",
      "0.5196316132546493\n"
     ]
    }
   ],
   "source": [
    "loss, accuracy, recall, precision = model.evaluate(ds)\n",
    "print(((1 + 1**2) * precision * recall) / ((1**2) * precision + recall))"
   ]
  }
 ],
 "metadata": {
  "kernelspec": {
   "display_name": "Python 3.10.4 ('ISIA_Lab')",
   "language": "python",
   "name": "python3"
  },
  "language_info": {
   "codemirror_mode": {
    "name": "ipython",
    "version": 3
   },
   "file_extension": ".py",
   "mimetype": "text/x-python",
   "name": "python",
   "nbconvert_exporter": "python",
   "pygments_lexer": "ipython3",
   "version": "3.10.4"
  },
  "orig_nbformat": 4,
  "vscode": {
   "interpreter": {
    "hash": "7c0d6cd7e7b2dd3a684bd626136cbce18dfad75f379eaa16c3a03313d5d7d178"
   }
  }
 },
 "nbformat": 4,
 "nbformat_minor": 2
}
