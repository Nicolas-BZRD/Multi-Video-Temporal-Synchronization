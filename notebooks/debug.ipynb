{
 "cells": [
  {
   "cell_type": "code",
   "execution_count": 1,
   "metadata": {},
   "outputs": [],
   "source": [
    "import cv2 as cv\n",
    "import numpy as np\n",
    "\n",
    "from models.cnn import cnn"
   ]
  },
  {
   "cell_type": "code",
   "execution_count": 2,
   "metadata": {},
   "outputs": [],
   "source": [
    "mdl = cnn.FeauturesExtraction()"
   ]
  },
  {
   "cell_type": "code",
   "execution_count": 3,
   "metadata": {},
   "outputs": [],
   "source": [
    "imageL = []\n",
    "imageR = []\n",
    "\n",
    "for i in range(24):\n",
    "    imageL.append(\n",
    "        cv.resize(\n",
    "            cv.imread(fr\"datasets\\ISIA_cv_flow\\1\\left\\{i}.jpg\"),\n",
    "            (224,224)\n",
    "        )\n",
    "    )\n",
    "\n",
    "    imageR.append(\n",
    "        cv.resize(\n",
    "            cv.imread(fr\"datasets\\ISIA_cv_flow\\1\\right\\{i}.jpg\"),\n",
    "            (224,224)\n",
    "        )\n",
    "    )\n",
    "\n",
    "imageL = np.apply_along_axis(lambda x: x/255, 0, imageL)\n",
    "imageR = np.apply_along_axis(lambda x: x/255, 0, imageR)"
   ]
  },
  {
   "cell_type": "code",
   "execution_count": 14,
   "metadata": {},
   "outputs": [
    {
     "name": "stdout",
     "output_type": "stream",
     "text": [
      "1/1 [==============================] - 0s 73ms/step\n"
     ]
    },
    {
     "data": {
      "text/plain": [
       "array([[0.        , 0.01018943, 0.        , 0.        , 0.        ,\n",
       "        0.        , 0.        , 0.05185662, 0.02107006, 0.00803723,\n",
       "        0.07349162, 0.02738972, 0.        , 0.00768099, 0.        ,\n",
       "        0.03246614, 0.        , 0.        , 0.        , 0.06256682,\n",
       "        0.01757766, 0.        , 0.        , 0.        , 0.        ,\n",
       "        0.00726097, 0.01295295, 0.        , 0.03078957, 0.02283256,\n",
       "        0.        , 0.        , 0.05609427, 0.        , 0.01543182,\n",
       "        0.        , 0.08059701, 0.        , 0.01412643, 0.        ,\n",
       "        0.02282879, 0.01220924, 0.        , 0.09712202, 0.06122432,\n",
       "        0.03122364, 0.06032281, 0.        ]], dtype=float32)"
      ]
     },
     "execution_count": 14,
     "metadata": {},
     "output_type": "execute_result"
    }
   ],
   "source": [
    "mdl = cnn.FeauturesExtraction()\n",
    "mdl.extract(imageR[23])"
   ]
  },
  {
   "cell_type": "code",
   "execution_count": 13,
   "metadata": {},
   "outputs": [
    {
     "name": "stdout",
     "output_type": "stream",
     "text": [
      "1/1 [==============================] - 0s 27ms/step\n"
     ]
    },
    {
     "data": {
      "text/plain": [
       "array([[0.        , 0.0123484 , 0.        , 0.        , 0.        ,\n",
       "        0.        , 0.        , 0.05042764, 0.01921211, 0.00884852,\n",
       "        0.07370862, 0.02624635, 0.        , 0.00837871, 0.        ,\n",
       "        0.03601082, 0.        , 0.        , 0.        , 0.06198144,\n",
       "        0.01762123, 0.        , 0.        , 0.        , 0.        ,\n",
       "        0.00586388, 0.01225591, 0.        , 0.03176841, 0.02269548,\n",
       "        0.        , 0.        , 0.05583763, 0.        , 0.01602201,\n",
       "        0.        , 0.07873024, 0.        , 0.01508228, 0.        ,\n",
       "        0.02360685, 0.01182895, 0.        , 0.09662178, 0.06159631,\n",
       "        0.0315863 , 0.06094751, 0.        ]], dtype=float32)"
      ]
     },
     "execution_count": 13,
     "metadata": {},
     "output_type": "execute_result"
    }
   ],
   "source": [
    "mdl.extract(imageL[7])"
   ]
  }
 ],
 "metadata": {
  "kernelspec": {
   "display_name": "Python 3.10.4 ('ISIA_Lab')",
   "language": "python",
   "name": "python3"
  },
  "language_info": {
   "codemirror_mode": {
    "name": "ipython",
    "version": 3
   },
   "file_extension": ".py",
   "mimetype": "text/x-python",
   "name": "python",
   "nbconvert_exporter": "python",
   "pygments_lexer": "ipython3",
   "version": "3.10.4"
  },
  "orig_nbformat": 4,
  "vscode": {
   "interpreter": {
    "hash": "7c0d6cd7e7b2dd3a684bd626136cbce18dfad75f379eaa16c3a03313d5d7d178"
   }
  }
 },
 "nbformat": 4,
 "nbformat_minor": 2
}
