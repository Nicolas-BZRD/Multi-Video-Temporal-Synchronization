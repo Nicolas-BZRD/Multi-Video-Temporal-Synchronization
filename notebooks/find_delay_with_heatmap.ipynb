{
 "cells": [
  {
   "cell_type": "markdown",
   "metadata": {},
   "source": [
    "# Algo to find delay between video with heatmap"
   ]
  },
  {
   "cell_type": "code",
   "execution_count": 1,
   "metadata": {},
   "outputs": [],
   "source": [
    "import numpy as np\n",
    "import seaborn as sns\n",
    "from sklearn.metrics import classification_report"
   ]
  },
  {
   "cell_type": "code",
   "execution_count": 2,
   "metadata": {},
   "outputs": [],
   "source": [
    "ds = np.load(r\"..\\datasets\\isia_flow_similarity_with_delay.npy\", allow_pickle=True)"
   ]
  },
  {
   "cell_type": "code",
   "execution_count": 3,
   "metadata": {},
   "outputs": [],
   "source": [
    "class DelayHeatMap():\n",
    "    def predict(self, X: list):\n",
    "        rtn = []\n",
    "        for video in X:\n",
    "            shape = (20,20)\n",
    "            video = np.reshape(video, shape)\n",
    "            heatMap = np.zeros(video.shape)\n",
    "            heatMap[np.argmax(video, axis=0), np.arange(video.shape[1])] = 1\n",
    "            delay = dict(zip([*range(20)], [0] * 20))\n",
    "\n",
    "            for i in range(20):\n",
    "                for j in range(20):\n",
    "                    if(heatMap[i][j]==1):\n",
    "                        tmp = i-j if i > j else j-i\n",
    "                        delay[tmp]+=1\n",
    "            rtn.append(max(delay, key=delay.get))\n",
    "\n",
    "        return rtn\n",
    "\n",
    "    def heatMap(self, x:list):\n",
    "        shape = (20,20)\n",
    "        result = np.reshape(x, shape)\n",
    "        heatMap = np.zeros(result.shape)\n",
    "        heatMap[np.argmax(result, axis=0), np.arange(result.shape[1])] = 1\n",
    "\n",
    "        sns.heatmap(heatMap)\n",
    "        print(self.predict([x]))\n",
    "\n",
    "    def report(self, X: list, y:list):\n",
    "        y_pred_test = self.predict(X)\n",
    "        print(classification_report(y, y_pred_test))"
   ]
  },
  {
   "cell_type": "code",
   "execution_count": 4,
   "metadata": {},
   "outputs": [],
   "source": [
    "dhm = DelayHeatMap()"
   ]
  },
  {
   "cell_type": "code",
   "execution_count": 16,
   "metadata": {},
   "outputs": [
    {
     "name": "stdout",
     "output_type": "stream",
     "text": [
      "[2]\n"
     ]
    },
    {
     "data": {
      "image/png": "[encoded data removed]",
      "text/plain": [
       "<Figure size 432x288 with 2 Axes>"
      ]
     },
     "metadata": {
      "needs_background": "light"
     },
     "output_type": "display_data"
    }
   ],
   "source": [
    "dhm.heatMap(ds[10,0])"
   ]
  },
  {
   "cell_type": "markdown",
   "metadata": {},
   "source": [
    "## Delay between 0 and 10"
   ]
  },
  {
   "cell_type": "code",
   "execution_count": 5,
   "metadata": {},
   "outputs": [],
   "source": [
    "tmp = ds.tolist()\n",
    "data = []\n",
    "for i in range(len(tmp)):\n",
    "    if tmp[i][1]!=-1 and tmp[i][1]<10:\n",
    "        data.append(tmp[i])\n",
    "\n",
    "data = np.array(data, dtype=object)"
   ]
  },
  {
   "cell_type": "code",
   "execution_count": 6,
   "metadata": {},
   "outputs": [
    {
     "name": "stdout",
     "output_type": "stream",
     "text": [
      "              precision    recall  f1-score   support\n",
      "\n",
      "           0       0.62      0.58      0.60       453\n",
      "           1       0.36      0.75      0.48       476\n",
      "           2       0.36      0.66      0.47       433\n",
      "           3       0.42      0.56      0.48       462\n",
      "           4       0.49      0.48      0.48       468\n",
      "           5       0.53      0.43      0.47       459\n",
      "           6       0.58      0.38      0.46       458\n",
      "           7       0.67      0.33      0.44       467\n",
      "           8       0.65      0.25      0.36       487\n",
      "           9       0.80      0.28      0.41       459\n",
      "          10       0.00      0.00      0.00         0\n",
      "          11       0.00      0.00      0.00         0\n",
      "          12       0.00      0.00      0.00         0\n",
      "          13       0.00      0.00      0.00         0\n",
      "          14       0.00      0.00      0.00         0\n",
      "          15       0.00      0.00      0.00         0\n",
      "\n",
      "    accuracy                           0.47      4622\n",
      "   macro avg       0.34      0.29      0.29      4622\n",
      "weighted avg       0.55      0.47      0.47      4622\n",
      "\n"
     ]
    },
    {
     "name": "stderr",
     "output_type": "stream",
     "text": [
      "c:\\Users\\Nicolas Boizard\\AppData\\Local\\Python Environment\\ISIA_Lab\\lib\\site-packages\\sklearn\\metrics\\_classification.py:1327: UndefinedMetricWarning: Recall and F-score are ill-defined and being set to 0.0 in labels with no true samples. Use `zero_division` parameter to control this behavior.\n",
      "  _warn_prf(average, modifier, msg_start, len(result))\n",
      "c:\\Users\\Nicolas Boizard\\AppData\\Local\\Python Environment\\ISIA_Lab\\lib\\site-packages\\sklearn\\metrics\\_classification.py:1327: UndefinedMetricWarning: Recall and F-score are ill-defined and being set to 0.0 in labels with no true samples. Use `zero_division` parameter to control this behavior.\n",
      "  _warn_prf(average, modifier, msg_start, len(result))\n",
      "c:\\Users\\Nicolas Boizard\\AppData\\Local\\Python Environment\\ISIA_Lab\\lib\\site-packages\\sklearn\\metrics\\_classification.py:1327: UndefinedMetricWarning: Recall and F-score are ill-defined and being set to 0.0 in labels with no true samples. Use `zero_division` parameter to control this behavior.\n",
      "  _warn_prf(average, modifier, msg_start, len(result))\n"
     ]
    }
   ],
   "source": [
    "dhm.report(data[:,0], data[:,1].tolist())"
   ]
  },
  {
   "cell_type": "markdown",
   "metadata": {},
   "source": [
    "## Delay between 0 and 20"
   ]
  },
  {
   "cell_type": "markdown",
   "metadata": {},
   "source": [
    "-1 means delay is greater than the lenght of the sequnece"
   ]
  },
  {
   "cell_type": "code",
   "execution_count": 7,
   "metadata": {},
   "outputs": [],
   "source": [
    "data = ds.tolist()\n",
    "\n",
    "for i in range(len(data)):\n",
    "    if data[i][1] == 20: data[i][1] = -1\n",
    "\n",
    "data = np.array(data, dtype=object)\n",
    "\n",
    "X = data[:,0].tolist()\n",
    "y = data[:,1].tolist()"
   ]
  },
  {
   "cell_type": "code",
   "execution_count": 8,
   "metadata": {},
   "outputs": [
    {
     "name": "stdout",
     "output_type": "stream",
     "text": [
      "              precision    recall  f1-score   support\n",
      "\n",
      "          -1       0.00      0.00      0.00       501\n",
      "           0       0.41      0.58      0.48       453\n",
      "           1       0.18      0.75      0.29       476\n",
      "           2       0.20      0.66      0.31       433\n",
      "           3       0.22      0.56      0.32       462\n",
      "           4       0.26      0.48      0.34       468\n",
      "           5       0.29      0.43      0.34       459\n",
      "           6       0.31      0.38      0.34       458\n",
      "           7       0.35      0.33      0.34       467\n",
      "           8       0.33      0.25      0.29       487\n",
      "           9       0.42      0.28      0.33       459\n",
      "          10       0.48      0.25      0.33       458\n",
      "          11       0.44      0.23      0.30       359\n",
      "          12       0.48      0.14      0.22       418\n",
      "          13       0.44      0.12      0.19       408\n",
      "          14       0.59      0.08      0.14       411\n",
      "          15       0.50      0.05      0.08       411\n",
      "          16       0.35      0.02      0.03       406\n",
      "          17       0.86      0.01      0.03       400\n",
      "          18       1.00      0.00      0.00       425\n",
      "          19       0.00      0.00      0.00       427\n",
      "\n",
      "    accuracy                           0.27      9246\n",
      "   macro avg       0.39      0.27      0.22      9246\n",
      "weighted avg       0.38      0.27      0.23      9246\n",
      "\n"
     ]
    },
    {
     "name": "stderr",
     "output_type": "stream",
     "text": [
      "c:\\Users\\Nicolas Boizard\\AppData\\Local\\Python Environment\\ISIA_Lab\\lib\\site-packages\\sklearn\\metrics\\_classification.py:1327: UndefinedMetricWarning: Precision and F-score are ill-defined and being set to 0.0 in labels with no predicted samples. Use `zero_division` parameter to control this behavior.\n",
      "  _warn_prf(average, modifier, msg_start, len(result))\n",
      "c:\\Users\\Nicolas Boizard\\AppData\\Local\\Python Environment\\ISIA_Lab\\lib\\site-packages\\sklearn\\metrics\\_classification.py:1327: UndefinedMetricWarning: Precision and F-score are ill-defined and being set to 0.0 in labels with no predicted samples. Use `zero_division` parameter to control this behavior.\n",
      "  _warn_prf(average, modifier, msg_start, len(result))\n",
      "c:\\Users\\Nicolas Boizard\\AppData\\Local\\Python Environment\\ISIA_Lab\\lib\\site-packages\\sklearn\\metrics\\_classification.py:1327: UndefinedMetricWarning: Precision and F-score are ill-defined and being set to 0.0 in labels with no predicted samples. Use `zero_division` parameter to control this behavior.\n",
      "  _warn_prf(average, modifier, msg_start, len(result))\n"
     ]
    }
   ],
   "source": [
    "dhm.report(data[:,0], data[:,1].tolist())"
   ]
  }
 ],
 "metadata": {
  "kernelspec": {
   "display_name": "Python 3.10.4 ('ISIA_Lab')",
   "language": "python",
   "name": "python3"
  },
  "language_info": {
   "codemirror_mode": {
    "name": "ipython",
    "version": 3
   },
   "file_extension": ".py",
   "mimetype": "text/x-python",
   "name": "python",
   "nbconvert_exporter": "python",
   "pygments_lexer": "ipython3",
   "version": "3.10.4"
  },
  "orig_nbformat": 4,
  "vscode": {
   "interpreter": {
    "hash": "7c0d6cd7e7b2dd3a684bd626136cbce18dfad75f379eaa16c3a03313d5d7d178"
   }
  }
 },
 "nbformat": 4,
 "nbformat_minor": 2
}
