{
 "cells": [
  {
   "cell_type": "code",
   "execution_count": 1,
   "metadata": {},
   "outputs": [],
   "source": [
    "from tensorflow.keras import models, layers, backend\n",
    "\n",
    "dropout = [0, 0, 0, 0]\n",
    "img_shape = (224,224,1)\n",
    "\n",
    "\n",
    "left_input = layers.Input(img_shape)\n",
    "right_input = layers.Input(img_shape)\n",
    "\n",
    "# Convolutional Neural Network\n",
    "cnn = models.Sequential()\n",
    "cnn.add(layers.Conv2D(32, (3, 3), activation='relu', input_shape=img_shape))\n",
    "cnn.add(layers.MaxPooling2D((3, 3)))\n",
    "\n",
    "cnn.add(layers.Conv2D(48, (3, 3), activation='relu'))\n",
    "cnn.add(layers.MaxPooling2D((2, 2)))\n",
    "cnn.add(layers.Dropout(dropout[0]))\n",
    "\n",
    "cnn.add(layers.Conv2D(48, (3, 3), activation='relu'))\n",
    "cnn.add(layers.MaxPooling2D((2, 2)))\n",
    "cnn.add(layers.Dropout(dropout[1]))\n",
    "\n",
    "cnn.add(layers.Conv2D(64, (3, 3), activation='relu'))\n",
    "cnn.add(layers.MaxPooling2D((2, 2)))\n",
    "cnn.add(layers.Dropout(dropout[2]))\n",
    "\n",
    "cnn.add(layers.GlobalAveragePooling2D())\n",
    "cnn.add(layers.Dense(48, activation='relu'))\n",
    "cnn.add(layers.Dropout(dropout[3]))\n",
    "\n",
    "# Generate the encodings (feature vectors) for the two images\n",
    "left_feats = cnn(left_input)\n",
    "right_fits = cnn(right_input)\n",
    "\n",
    "# Add a customized layer to compute the difference between the encodings\n",
    "difference_layer = layers.Lambda(lambda tensors:backend.abs(tensors[0] - tensors[1]))\n",
    "distance = difference_layer([left_feats, right_fits])\n",
    "\n",
    "# Add a dense layer with a sigmoid unit to generate the similarity score\n",
    "prediction = layers.Dense(1,activation='sigmoid')(distance)\n",
    "\n",
    "# Connect the inputs with the outputs\n",
    "model = models.Model(inputs=[left_input,right_input],outputs=prediction)"
   ]
  },
  {
   "cell_type": "code",
   "execution_count": 3,
   "metadata": {},
   "outputs": [
    {
     "name": "stdout",
     "output_type": "stream",
     "text": [
      "Model: \"sequential\"\n",
      "_________________________________________________________________\n",
      " Layer (type)                Output Shape              Param #   \n",
      "=================================================================\n",
      " conv2d (Conv2D)             (None, 222, 222, 32)      320       \n",
      "                                                                 \n",
      " max_pooling2d (MaxPooling2D  (None, 74, 74, 32)       0         \n",
      " )                                                               \n",
      "                                                                 \n",
      " conv2d_1 (Conv2D)           (None, 72, 72, 48)        13872     \n",
      "                                                                 \n",
      " max_pooling2d_1 (MaxPooling  (None, 36, 36, 48)       0         \n",
      " 2D)                                                             \n",
      "                                                                 \n",
      " dropout (Dropout)           (None, 36, 36, 48)        0         \n",
      "                                                                 \n",
      " conv2d_2 (Conv2D)           (None, 34, 34, 48)        20784     \n",
      "                                                                 \n",
      " max_pooling2d_2 (MaxPooling  (None, 17, 17, 48)       0         \n",
      " 2D)                                                             \n",
      "                                                                 \n",
      " dropout_1 (Dropout)         (None, 17, 17, 48)        0         \n",
      "                                                                 \n",
      " conv2d_3 (Conv2D)           (None, 15, 15, 64)        27712     \n",
      "                                                                 \n",
      " max_pooling2d_3 (MaxPooling  (None, 7, 7, 64)         0         \n",
      " 2D)                                                             \n",
      "                                                                 \n",
      " dropout_2 (Dropout)         (None, 7, 7, 64)          0         \n",
      "                                                                 \n",
      " global_average_pooling2d (G  (None, 64)               0         \n",
      " lobalAveragePooling2D)                                          \n",
      "                                                                 \n",
      " dense (Dense)               (None, 48)                3120      \n",
      "                                                                 \n",
      " dropout_3 (Dropout)         (None, 48)                0         \n",
      "                                                                 \n",
      "=================================================================\n",
      "Total params: 65,808\n",
      "Trainable params: 65,808\n",
      "Non-trainable params: 0\n",
      "_________________________________________________________________\n"
     ]
    }
   ],
   "source": [
    "cnn.summary()"
   ]
  }
 ],
 "metadata": {
  "interpreter": {
   "hash": "7c0d6cd7e7b2dd3a684bd626136cbce18dfad75f379eaa16c3a03313d5d7d178"
  },
  "kernelspec": {
   "display_name": "Python 3.10.4 ('ISIA_Lab')",
   "language": "python",
   "name": "python3"
  },
  "language_info": {
   "codemirror_mode": {
    "name": "ipython",
    "version": 3
   },
   "file_extension": ".py",
   "mimetype": "text/x-python",
   "name": "python",
   "nbconvert_exporter": "python",
   "pygments_lexer": "ipython3",
   "version": "3.10.4"
  },
  "orig_nbformat": 4
 },
 "nbformat": 4,
 "nbformat_minor": 2
}
