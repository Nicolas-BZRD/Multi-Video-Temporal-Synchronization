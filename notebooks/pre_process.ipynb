{
 "cells": [
  {
   "cell_type": "code",
   "execution_count": 1,
   "metadata": {},
   "outputs": [],
   "source": [
    "import os\n",
    "import shutil\n",
    "import random\n",
    "\n",
    "import cv2 as cv\n",
    "import numpy as np"
   ]
  },
  {
   "cell_type": "markdown",
   "metadata": {},
   "source": [
    "# Tools"
   ]
  },
  {
   "cell_type": "code",
   "execution_count": 7,
   "metadata": {},
   "outputs": [],
   "source": [
    "# Renames\n",
    "for i in range(1, 1301):\n",
    "    os.rename(fr\"robot\\images\\left\\{i}.jpg\", fr\"robot\\images\\left\\{i-1}.jpg\")"
   ]
  },
  {
   "cell_type": "code",
   "execution_count": 17,
   "metadata": {},
   "outputs": [],
   "source": [
    "# Move files\n",
    "path = r\"CLICK\\H1\"\n",
    "pathSave = r\"CLICK\\images\"\n",
    "id = 0\n",
    "\n",
    "dirs = os.listdir(path)\n",
    "for dir in dirs:\n",
    "    numberImages = len(os.listdir(fr\"{path}\\{dir}\\data\\left\"))\n",
    "    i=0\n",
    "    while i < numberImages:\n",
    "        shutil.move(fr\"{path}\\{dir}\\data\\left\\{i}.jpg\", fr\"{pathSave}\\left\\{id}.jpg\")\n",
    "        shutil.move(fr\"{path}\\{dir}\\data\\right\\{i}.jpg\", fr\"{pathSave}\\right\\{id}.jpg\")\n",
    "\n",
    "        id+=1\n",
    "        i+=1"
   ]
  },
  {
   "cell_type": "markdown",
   "metadata": {},
   "source": [
    "# CV Flow"
   ]
  },
  {
   "cell_type": "code",
   "execution_count": null,
   "metadata": {},
   "outputs": [],
   "source": [
    "path = fr\"CLICK\\images\"\n",
    "pathSave = fr\"CLICK\\flows\"\n",
    "numberImages = len(os.listdir(fr\"{path}\\left\"))\n",
    "\n",
    "i = 0; error=0; listErrors = []\n",
    "frame = cv.imread(fr\"{path}\\left\\{i}.jpg\")\n",
    "prvsL = cv.cvtColor(frame,cv.COLOR_BGR2GRAY)\n",
    "\n",
    "frame = cv.imread(fr\"{path}\\right\\{i}.jpg\")\n",
    "prvsR = cv.cvtColor(frame,cv.COLOR_BGR2GRAY)\n",
    "hsv = np.zeros_like(frame)\n",
    "hsv[...,1] = 255\n",
    "i+=1\n",
    "\n",
    "while i < numberImages:\n",
    "    #Left\n",
    "    frame = cv.imread(fr\"{path}\\left\\{i}.jpg\")\n",
    "    nextL = cv.cvtColor(frame,cv.COLOR_BGR2GRAY)\n",
    "\n",
    "    flow = cv.calcOpticalFlowFarneback(prvsL,nextL, None, 0.5, 3, 15, 3, 5, 1.2, 0)\n",
    "\n",
    "    mag, ang = cv.cartToPolar(flow[...,0], flow[...,1])\n",
    "    hsv[...,0] = ang*180/np.pi/2\n",
    "    hsv[...,2] = cv.normalize(mag,None,0,255,cv.NORM_MINMAX)\n",
    "    rgb_flowL = cv.cvtColor(hsv,cv.COLOR_HSV2BGR)\n",
    "\n",
    "    rgb_flowL = cv.normalize(rgb_flowL, dst=None, alpha=0, beta=255,norm_type=cv.NORM_MINMAX, dtype=cv.CV_8U)\n",
    "\n",
    "    #Right\n",
    "    frame = cv.imread(fr\"{path}\\right\\{i}.jpg\")\n",
    "    nextR = cv.cvtColor(frame,cv.COLOR_BGR2GRAY)\n",
    "\n",
    "    flow = cv.calcOpticalFlowFarneback(prvsR,nextR, None, 0.5, 3, 15, 3, 5, 1.2, 0)\n",
    "\n",
    "    mag, ang = cv.cartToPolar(flow[...,0], flow[...,1])\n",
    "    hsv[...,0] = ang*180/np.pi/2\n",
    "    hsv[...,2] = cv.normalize(mag,None,0,255,cv.NORM_MINMAX)\n",
    "    rgb_flowR = cv.cvtColor(hsv,cv.COLOR_HSV2BGR)\n",
    "\n",
    "    rgb_flowR = cv.normalize(rgb_flowR, dst=None, alpha=0, beta=255,norm_type=cv.NORM_MINMAX, dtype=cv.CV_8U)\n",
    "\n",
    "    if(np.any(rgb_flowL != 0) and np.any(rgb_flowR != 0)):\n",
    "        cv.imwrite(f\"{pathSave}/left/{i-1}.jpg\", rgb_flowL)\n",
    "        cv.imwrite(f\"{pathSave}/right/{i-1}.jpg\", rgb_flowR)\n",
    "        prvsL = nextL\n",
    "        prvsR = nextR\n",
    "        i+=1\n",
    "    else:\n",
    "        error+=1\n",
    "        if(error==20):\n",
    "            listErrors.append(i)\n",
    "            error=0\n",
    "            frame = cv.imread(fr\"{path}\\left\\{i}.jpg\")\n",
    "            prvsL = cv.cvtColor(frame,cv.COLOR_BGR2GRAY)\n",
    "            frame = cv.imread(fr\"{path}\\right\\{i}.jpg\")\n",
    "            prvsR = cv.cvtColor(frame,cv.COLOR_BGR2GRAY)\n",
    "            i+=1"
   ]
  },
  {
   "cell_type": "code",
   "execution_count": null,
   "metadata": {},
   "outputs": [],
   "source": [
    "# Error correction\n",
    "path = fr\"CLICK\\images\"\n",
    "pathSave = fr\"CLICK\\flows\"\n",
    "numberTry = 0\n",
    "\n",
    "while len(listErrors) != 0 or numberTry == 20:\n",
    "    tmp = []\n",
    "    for i in listErrors:\n",
    "        # Left\n",
    "        frame = cv.imread(fr\"{path}\\left\\{i-1}.jpg\")\n",
    "        prvsL = cv.cvtColor(frame,cv.COLOR_BGR2GRAY)\n",
    "\n",
    "        hsv = np.zeros_like(frame)\n",
    "        hsv[...,1] = 255\n",
    "\n",
    "        frame = cv.imread(fr\"{path}\\left\\{i}.jpg\")\n",
    "        nextL = cv.cvtColor(frame,cv.COLOR_BGR2GRAY)\n",
    "\n",
    "        flow = cv.calcOpticalFlowFarneback(prvsL,nextL, None, 0.5, 3, 15, 3, 5, 1.2, 0)\n",
    "\n",
    "        mag, ang = cv.cartToPolar(flow[...,0], flow[...,1])\n",
    "        hsv[...,0] = ang*180/np.pi/2\n",
    "        hsv[...,2] = cv.normalize(mag,None,0,255,cv.NORM_MINMAX)\n",
    "        rgb_flowL = cv.cvtColor(hsv,cv.COLOR_HSV2BGR)\n",
    "\n",
    "        rgb_flowL = cv.normalize(rgb_flowL, dst=None, alpha=0, beta=255,norm_type=cv.NORM_MINMAX, dtype=cv.CV_8U)\n",
    "\n",
    "        # Right\n",
    "        frame = cv.imread(fr\"{path}\\right\\{i-1}.jpg\")\n",
    "        prvsR = cv.cvtColor(frame,cv.COLOR_BGR2GRAY)\n",
    "\n",
    "        hsv = np.zeros_like(frame)\n",
    "        hsv[...,1] = 255\n",
    "\n",
    "        frame = cv.imread(fr\"{path}\\right\\{i}.jpg\")\n",
    "        nextR = cv.cvtColor(frame,cv.COLOR_BGR2GRAY)\n",
    "\n",
    "        flow = cv.calcOpticalFlowFarneback(prvsR,nextR, None, 0.5, 3, 15, 3, 5, 1.2, 0)\n",
    "\n",
    "        mag, ang = cv.cartToPolar(flow[...,0], flow[...,1])\n",
    "        hsv[...,0] = ang*180/np.pi/2\n",
    "        hsv[...,2] = cv.normalize(mag,None,0,255,cv.NORM_MINMAX)\n",
    "        rgb_flowR = cv.cvtColor(hsv,cv.COLOR_HSV2BGR)\n",
    "\n",
    "        rgb_flowR = cv.normalize(rgb_flowR, dst=None, alpha=0, beta=255,norm_type=cv.NORM_MINMAX, dtype=cv.CV_8U)\n",
    "\n",
    "        if(np.any(rgb_flowL != 0) and np.any(rgb_flowR != 0)):\n",
    "            cv.imwrite(f\"{pathSave}/left/{i-1}.jpg\", rgb_flowL)\n",
    "            cv.imwrite(f\"{pathSave}/right/{i-1}.jpg\", rgb_flowR)\n",
    "            prvsL = nextL\n",
    "            prvsR = nextR\n",
    "        else:\n",
    "            tmp.append(i)\n",
    "\n",
    "    numberTry+=1\n",
    "    listErrors = tmp\n",
    "\n"
   ]
  },
  {
   "cell_type": "markdown",
   "metadata": {},
   "source": [
    "# Wrong pairs"
   ]
  },
  {
   "cell_type": "code",
   "execution_count": 4,
   "metadata": {},
   "outputs": [],
   "source": [
    "pathGood = r\"ISIA\\images\\good\"\n",
    "pathWrong = r\"ISIA\\images\\wrong\"\n",
    "\n",
    "id = 0\n",
    "images = os.listdir(fr\"{pathGood}/left\")\n",
    "numberImages = len(images)\n",
    "\n",
    "for i in range(numberImages):\n",
    "    frame = 0\n",
    "    while(frame == 0 or f\"{secondImage}.jpg\" not in images):\n",
    "        frame = random.randint(-10,10)\n",
    "        secondImage = i\n",
    "        secondImage+=frame\n",
    "\n",
    "    shutil.copyfile(fr\"{pathGood}/left/{i}.jpg\", fr\"{pathWrong}/left/{i}.jpg\")\n",
    "    shutil.copyfile(fr\"{pathGood}/right/{secondImage}.jpg\", fr\"{pathWrong}/right/{i}.jpg\")"
   ]
  }
 ],
 "metadata": {
  "kernelspec": {
   "display_name": "Python 3.10.4 ('ISIA_Lab')",
   "language": "python",
   "name": "python3"
  },
  "language_info": {
   "codemirror_mode": {
    "name": "ipython",
    "version": 3
   },
   "file_extension": ".py",
   "mimetype": "text/x-python",
   "name": "python",
   "nbconvert_exporter": "python",
   "pygments_lexer": "ipython3",
   "version": "3.10.4"
  },
  "orig_nbformat": 4,
  "vscode": {
   "interpreter": {
    "hash": "7c0d6cd7e7b2dd3a684bd626136cbce18dfad75f379eaa16c3a03313d5d7d178"
   }
  }
 },
 "nbformat": 4,
 "nbformat_minor": 2
}
