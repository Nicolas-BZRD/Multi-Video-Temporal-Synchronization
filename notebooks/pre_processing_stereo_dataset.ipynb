{
 "cells": [
  {
   "cell_type": "markdown",
   "metadata": {},
   "source": [
    "# Pre-processing stereo data from ISIA Lab"
   ]
  },
  {
   "cell_type": "code",
   "execution_count": 1,
   "metadata": {},
   "outputs": [
    {
     "ename": "ModuleNotFoundError",
     "evalue": "No module named 'cv2'",
     "output_type": "error",
     "traceback": [
      "\u001b[0;31m---------------------------------------------------------------------------\u001b[0m",
      "\u001b[0;31mModuleNotFoundError\u001b[0m                       Traceback (most recent call last)",
      "\u001b[1;32m/mnt/c/Users/Nicolas Boizard/OneDrive - JUNIA Grande école d'ingénieurs/M2/AI/Multi-Video-Temporal-Synchronization/notebook/pre_processing_stereo_dataset.ipynb Cell 2'\u001b[0m in \u001b[0;36m<cell line: 2>\u001b[0;34m()\u001b[0m\n\u001b[1;32m      <a href='vscode-notebook-cell://wsl%2Bubuntu/mnt/c/Users/Nicolas%20Boizard/OneDrive%20-%20JUNIA%20Grande%20%C3%A9cole%20d%27ing%C3%A9nieurs/M2/AI/Multi-Video-Temporal-Synchronization/notebook/pre_processing_stereo_dataset.ipynb#ch0000001vscode-remote?line=0'>1</a>\u001b[0m \u001b[39mimport\u001b[39;00m \u001b[39mos\u001b[39;00m\n\u001b[0;32m----> <a href='vscode-notebook-cell://wsl%2Bubuntu/mnt/c/Users/Nicolas%20Boizard/OneDrive%20-%20JUNIA%20Grande%20%C3%A9cole%20d%27ing%C3%A9nieurs/M2/AI/Multi-Video-Temporal-Synchronization/notebook/pre_processing_stereo_dataset.ipynb#ch0000001vscode-remote?line=1'>2</a>\u001b[0m \u001b[39mimport\u001b[39;00m \u001b[39mcv2\u001b[39;00m \u001b[39mas\u001b[39;00m \u001b[39mcv\u001b[39;00m\n\u001b[1;32m      <a href='vscode-notebook-cell://wsl%2Bubuntu/mnt/c/Users/Nicolas%20Boizard/OneDrive%20-%20JUNIA%20Grande%20%C3%A9cole%20d%27ing%C3%A9nieurs/M2/AI/Multi-Video-Temporal-Synchronization/notebook/pre_processing_stereo_dataset.ipynb#ch0000001vscode-remote?line=2'>3</a>\u001b[0m \u001b[39mimport\u001b[39;00m \u001b[39mrandom\u001b[39;00m\n",
      "\u001b[0;31mModuleNotFoundError\u001b[0m: No module named 'cv2'"
     ]
    }
   ],
   "source": [
    "import os\n",
    "import cv2 as cv\n",
    "import random"
   ]
  },
  {
   "cell_type": "code",
   "execution_count": 8,
   "metadata": {},
   "outputs": [
    {
     "name": "stdout",
     "output_type": "stream",
     "text": [
      "Corridor 1\n",
      "Corridor 2\n",
      "Entrance\n",
      "Kitchen\n",
      "MeetingsRoom\n",
      "Numediart\n",
      "Office1\n",
      "Office2\n",
      "Office3\n",
      "Office4\n",
      "OpenplanOffice1\n",
      "OpenplanOffice2\n",
      "OpenplanOffice3\n"
     ]
    }
   ],
   "source": [
    "pathData = r\"C:\\Users\\Nicolas Boizard\\Downloads\\dataset\\tmp\\H1\"\n",
    "pathSave = r\"C:\\Users\\Nicolas Boizard\\Downloads\\dataset\\ISIA\"\n",
    "\n",
    "id = 0\n",
    "directories = os.listdir(pathData)\n",
    "for directory in directories:\n",
    "    print(directory)\n",
    "    images = os.listdir(f\"{pathData}/{directory}/data/left\")\n",
    "    for image in images:\n",
    "        # Good pair\n",
    "        l = cv.imread(f\"{pathData}/{directory}/data/left/{image}\", cv.IMREAD_GRAYSCALE)\n",
    "        r = cv.imread(f\"{pathData}/{directory}/data/right/{image}\", cv.IMREAD_GRAYSCALE)\n",
    "\n",
    "        l = cv.resize(l, dsize=(224, 224))\n",
    "        r = cv.resize(r, dsize=(224, 224))\n",
    "\n",
    "        cv.imwrite(f\"{pathSave}/1/left/{id}.jpg\", l)\n",
    "        cv.imwrite(f\"{pathSave}/1/right/{id}.jpg\", r)\n",
    "\n",
    "        # Wrong pair\n",
    "        frame = 0\n",
    "        secondImage = \"\"\n",
    "        while(frame == 0 or secondImage not in images):\n",
    "            frame = random.randint(-10,10)\n",
    "            secondImage = image.split('.')\n",
    "            secondImage[0] = str(int(secondImage[0])+frame)\n",
    "            secondImage = '.'.join(secondImage)\n",
    "        \n",
    "        r = cv.imread(f\"{pathData}/{directory}/data/right/{secondImage}\", cv.IMREAD_GRAYSCALE)\n",
    "        r = cv.resize(r, dsize=(224, 224))\n",
    "\n",
    "        cv.imwrite(f\"{pathSave}/0/left/{id}.jpg\", l)\n",
    "        cv.imwrite(f\"{pathSave}/0/right/{id}.jpg\", r)\n",
    "        id+=1"
   ]
  }
 ],
 "metadata": {
  "interpreter": {
   "hash": "04031d5f174e4fe1e411f4ff3487522ce8d8665a7b3b9ba83919550c2e319439"
  },
  "kernelspec": {
   "display_name": "Python 3.8.10 ('Multi-Video-Temporal-Synchronization')",
   "language": "python",
   "name": "python3"
  },
  "language_info": {
   "codemirror_mode": {
    "name": "ipython",
    "version": 3
   },
   "file_extension": ".py",
   "mimetype": "text/x-python",
   "name": "python",
   "nbconvert_exporter": "python",
   "pygments_lexer": "ipython3",
   "version": "3.8.10"
  },
  "orig_nbformat": 4
 },
 "nbformat": 4,
 "nbformat_minor": 2
}
