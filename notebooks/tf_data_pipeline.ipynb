{
 "cells": [
  {
   "cell_type": "markdown",
   "metadata": {},
   "source": [
    "# Data pipeline"
   ]
  },
  {
   "cell_type": "code",
   "execution_count": 1,
   "metadata": {},
   "outputs": [],
   "source": [
    "import tensorflow as tf\n",
    "import matplotlib.pyplot as plt\n",
    "\n",
    "import os\n",
    "import random"
   ]
  },
  {
   "cell_type": "code",
   "execution_count": 2,
   "metadata": {},
   "outputs": [
    {
     "data": {
      "text/plain": [
       "11946"
      ]
     },
     "execution_count": 2,
     "metadata": {},
     "output_type": "execute_result"
    }
   ],
   "source": [
    "images = os.listdir(r\"C:\\Users\\Nicolas Boizard\\OneDrive - JUNIA Grande école d'ingénieurs\\M2\\AI\\Multi-Video-Temporal-Synchronization\\datasets\\ISIA\\0\\left\")\n",
    "len(images)"
   ]
  },
  {
   "cell_type": "code",
   "execution_count": 3,
   "metadata": {},
   "outputs": [
    {
     "name": "stdout",
     "output_type": "stream",
     "text": [
      "Found 11946 files belonging to 1 classes.\n",
      "Found 11946 files belonging to 1 classes.\n",
      "Found 11946 files belonging to 1 classes.\n",
      "Found 11946 files belonging to 1 classes.\n"
     ]
    }
   ],
   "source": [
    "path = r\"C:\\Users\\Nicolas Boizard\\OneDrive - JUNIA Grande école d'ingénieurs\\M2\\AI\\Multi-Video-Temporal-Synchronization\\datasets\\ISIA\"\n",
    "\n",
    "# Get data from all the directories\n",
    "ds = [] #0->leftWrong, 1->rightWrong, 2->leftPair, 3->rightPair\n",
    "for label in range(0,2):\n",
    "  for side in ['left', 'right']:\n",
    "    tmp = tf.keras.utils.image_dataset_from_directory(\n",
    "        fr\"{path}/{label}/{side}\",\n",
    "        color_mode=\"grayscale\",\n",
    "        image_size=(224, 224),\n",
    "        batch_size=None,\n",
    "        labels=None,\n",
    "        shuffle=False\n",
    "      )\n",
    "    tmp = tmp.map(lambda x: x/255)\n",
    "    ds.append(tmp)\n",
    "\n",
    "wrong = tf.data.Dataset.zip((ds[0], ds[1]))\n",
    "pair = tf.data.Dataset.zip((ds[2], ds[3]))\n",
    "\n",
    "# Create labels\n",
    "wrongLables = tf.zeros([len(images)])\n",
    "wrongLables = tf.data.Dataset.from_tensor_slices(wrongLables)\n",
    "wrong = tf.data.Dataset.zip((wrong, wrongLables))\n",
    "\n",
    "pairLabels = tf.ones([len(images)])\n",
    "pairLabels = tf.data.Dataset.from_tensor_slices(pairLabels)\n",
    "pair = tf.data.Dataset.zip((pair, pairLabels))\n",
    "\n",
    "# Create the dataset\n",
    "dataset = tf.data.Dataset.sample_from_datasets([pair, wrong], weights=[0.5, 0.5])"
   ]
  },
  {
   "cell_type": "markdown",
   "metadata": {},
   "source": [
    "## Split dataset"
   ]
  },
  {
   "cell_type": "code",
   "execution_count": 4,
   "metadata": {},
   "outputs": [],
   "source": [
    "size = len(images)*2\n",
    "\n",
    "ds_train=dataset.take(int(size*0.8))\n",
    "tmp=dataset.skip(int(size*0.8))\n",
    "\n",
    "# tmp_size = size - int(size*0.8)\n",
    "\n",
    "ds_validation = tmp.take(int(size*0.1))\n",
    "ds_test = tmp.skip(int(size*0.1))\n",
    "\n",
    "# ds_train = ds_train\n",
    "# ds_validation = ds_validation\n",
    "# ds_test = ds_test"
   ]
  },
  {
   "cell_type": "markdown",
   "metadata": {},
   "source": [
    "## Preview images"
   ]
  },
  {
   "cell_type": "code",
   "execution_count": 8,
   "metadata": {},
   "outputs": [
    {
     "name": "stdout",
     "output_type": "stream",
     "text": [
      "2390\n"
     ]
    }
   ],
   "source": [
    "i = 0\n",
    "\n",
    "for images, labels in ds_test.take(100000):\n",
    "    i+=1\n",
    "    # f, axarr = plt.subplots(1,2)\n",
    "    # f.suptitle(labels.numpy())\n",
    "    # axarr[0].imshow(images[0][:,:,0].numpy(), cmap='gray', clim=(0,1))\n",
    "    # axarr[1].imshow(images[1][:,:,0].numpy(), cmap='gray', clim=(0,1))\n",
    "print(i)"
   ]
  }
 ],
 "metadata": {
  "interpreter": {
   "hash": "7c0d6cd7e7b2dd3a684bd626136cbce18dfad75f379eaa16c3a03313d5d7d178"
  },
  "kernelspec": {
   "display_name": "Python 3.10.4 ('ISIA_Lab')",
   "language": "python",
   "name": "python3"
  },
  "language_info": {
   "codemirror_mode": {
    "name": "ipython",
    "version": 3
   },
   "file_extension": ".py",
   "mimetype": "text/x-python",
   "name": "python",
   "nbconvert_exporter": "python",
   "pygments_lexer": "ipython3",
   "version": "3.10.4"
  },
  "orig_nbformat": 4
 },
 "nbformat": 4,
 "nbformat_minor": 2
}
