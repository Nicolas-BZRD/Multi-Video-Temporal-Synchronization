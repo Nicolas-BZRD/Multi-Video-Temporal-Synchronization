{
 "cells": [
  {
   "cell_type": "markdown",
   "metadata": {},
   "source": [
    "# Desynchronization time calculator"
   ]
  },
  {
   "cell_type": "markdown",
   "metadata": {},
   "source": [
    "## Load model"
   ]
  },
  {
   "cell_type": "code",
   "execution_count": 1,
   "metadata": {},
   "outputs": [],
   "source": [
    "import os\n",
    "from tensorflow.keras import models, layers, backend, callbacks, metrics"
   ]
  },
  {
   "cell_type": "code",
   "execution_count": 2,
   "metadata": {},
   "outputs": [],
   "source": [
    "left_input = layers.Input((224,224,3))\n",
    "right_input = layers.Input((224,224,3))\n",
    "\n",
    "# Convolutional Neural Network\n",
    "cnn = models.Sequential()\n",
    "cnn.add(layers.Conv2D(32, (3, 3), activation='relu', input_shape=(224,224,3)))\n",
    "cnn.add(layers.MaxPooling2D((3, 3)))\n",
    "\n",
    "cnn.add(layers.Conv2D(48, (3, 3), activation='relu'))\n",
    "cnn.add(layers.MaxPooling2D((2, 2)))\n",
    "cnn.add(layers.Dropout(0))\n",
    "\n",
    "cnn.add(layers.Conv2D(48, (3, 3), activation='relu'))\n",
    "cnn.add(layers.MaxPooling2D((2, 2)))\n",
    "cnn.add(layers.Dropout(0))\n",
    "\n",
    "cnn.add(layers.Conv2D(64, (3, 3), activation='relu'))\n",
    "cnn.add(layers.MaxPooling2D((2, 2)))\n",
    "cnn.add(layers.Dropout(0))\n",
    "\n",
    "cnn.add(layers.GlobalAveragePooling2D())\n",
    "cnn.add(layers.Dense(48, activation='relu'))\n",
    "cnn.add(layers.Dropout(0))\n",
    "\n",
    "# Generate the encodings (feature vectors) for the two images\n",
    "left_feats = cnn(left_input)\n",
    "right_fits = cnn(right_input)\n",
    "\n",
    "# Add a customized layer to compute the difference between the encodings\n",
    "difference_layer = layers.Lambda(lambda tensors:backend.abs(tensors[0] - tensors[1]))\n",
    "distance = difference_layer([left_feats, right_fits])\n",
    "\n",
    "# Add a dense layer with a sigmoid unit to generate the similarity score\n",
    "prediction = layers.Dense(1,activation='sigmoid')(distance)\n",
    "\n",
    "# Connect the inputs with the outputs\n",
    "model = models.Model(inputs=[left_input,right_input],outputs=prediction)\n",
    "\n",
    "model.load_weights(r\"models\\2022-06-08 (cv_flow)\\07-57-19\\weight\\weights\")\n",
    "\n",
    "# Compile the model\n",
    "model.compile(loss=\"binary_crossentropy\", optimizer=\"Adam\", metrics=[\"accuracy\", metrics.Recall(), metrics.Precision()])"
   ]
  },
  {
   "cell_type": "markdown",
   "metadata": {},
   "source": [
    "## Load data"
   ]
  },
  {
   "cell_type": "code",
   "execution_count": null,
   "metadata": {},
   "outputs": [],
   "source": []
  }
 ],
 "metadata": {
  "interpreter": {
   "hash": "7c0d6cd7e7b2dd3a684bd626136cbce18dfad75f379eaa16c3a03313d5d7d178"
  },
  "kernelspec": {
   "display_name": "Python 3.10.4 ('ISIA_Lab')",
   "language": "python",
   "name": "python3"
  },
  "language_info": {
   "codemirror_mode": {
    "name": "ipython",
    "version": 3
   },
   "file_extension": ".py",
   "mimetype": "text/x-python",
   "name": "python",
   "nbconvert_exporter": "python",
   "pygments_lexer": "ipython3",
   "version": "3.10.4"
  },
  "orig_nbformat": 4
 },
 "nbformat": 4,
 "nbformat_minor": 2
}
